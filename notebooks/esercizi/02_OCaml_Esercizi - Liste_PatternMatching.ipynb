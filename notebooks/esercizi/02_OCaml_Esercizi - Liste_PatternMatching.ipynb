{
 "cells": [
  {
   "cell_type": "markdown",
   "id": "e03e09f6",
   "metadata": {},
   "source": [
    "# Esercizi OCaml - 02 - Liste e Pattern Matching"
   ]
  },
  {
   "cell_type": "markdown",
   "id": "8256c3e0",
   "metadata": {},
   "source": [
    "## 1. Inferenza di tipi con le liste"
   ]
  },
  {
   "cell_type": "markdown",
   "id": "67be07c4",
   "metadata": {},
   "source": [
    "**Esercizio 1.1.** Che tipo hanno le seguenti espressioni? Cercare di inferirlo a mente (o su carta) e poi controllare se la risposta è corretta facendo valutare l'espressione all'interprete:\n",
    "\n",
    "1. `[(3,4);(2,1)]`\n",
    "2. `fun x lis -> x::lis`\n",
    "3. `fun x lis -> let b=x>0 in if b then lis else [b]`\n",
    "4. `fun x -> []::x`\n",
    "5. `let f n = n+1 in if true then [f] else [(fun x -> x); (fun x-> x-1)]`"
   ]
  },
  {
   "cell_type": "code",
   "execution_count": 1,
   "id": "18f50fbc",
   "metadata": {},
   "outputs": [
    {
     "ename": "error",
     "evalue": "compile_error",
     "output_type": "error",
     "traceback": [
      "File \"[1]\", line 1, characters 11-12:\n1 | (3,4);(2,1)];;\n               ^\nError: Syntax error\n"
     ]
    }
   ],
   "source": [
    "(3,4);(2,1)];;\n",
    "fun x lis -> x::lis;;\n",
    "fun x lis -> let b=x>0 in if b then lis else [b];;\n",
    "fun x -> []::x;;\n",
    "let f n = n+1 in if true then [f] else [(fun x -> x); (fun x-> x-1)];;"
   ]
  },
  {
   "cell_type": "markdown",
   "id": "8bdc6bf5",
   "metadata": {},
   "source": [
    "## 2. Funzioni ricorsive su liste"
   ]
  },
  {
   "cell_type": "markdown",
   "id": "64016a45",
   "metadata": {},
   "source": [
    "**ATTENZIONE:**\n",
    "\n",
    "* Per risolvere i seguenti esercizi provare innanzitutto a definire delle funzioni ricorsive in modo esplicito (per intenderci con `let rec`) e poi provare a dare una soluzione diversa non utilizzando la ricorsione esplicita, ma ricorrendo alle funzioni higher-order viste a lezione (`List.map`,`List.filter`,`List.fold_right`,`List.fold_left`, eccetera...)\n",
    "* Nella soluzione è possibile (e in alcuni casi, consigliato) definire funzioni ausiliarie usando il costrutto `let ...  in`. Nelle soluzioni che si basano su ricorsione esplicita la funzione ricorsiva può essere quella principale o una (o più) di quelle ausiliarie."
   ]
  },
  {
   "cell_type": "markdown",
   "id": "1c7f55c5",
   "metadata": {
    "cell_style": "center"
   },
   "source": [
    "**Esercizio 2.1.** Scrivere una funzione `genera_lista` che prende un intero positivo `n` e restituisce una lista contenente la lista `[1; 2; ... n]`. Nel caso in cui `n` sia minore o uguale di zero restituisce la lista vuota."
   ]
  },
  {
   "cell_type": "code",
   "execution_count": 2,
   "id": "b8ef708f",
   "metadata": {},
   "outputs": [
    {
     "data": {
      "text/plain": [
       "val genera_lista : int -> int list = <fun>\n"
      ]
     },
     "execution_count": 2,
     "metadata": {},
     "output_type": "execute_result"
    },
    {
     "data": {
      "text/plain": [
       "- : int list = [1; 2; 3; 4]\n"
      ]
     },
     "execution_count": 2,
     "metadata": {},
     "output_type": "execute_result"
    }
   ],
   "source": [
    "let rec genera_lista n =\n",
    "    match n with\n",
    "        |0 -> []\n",
    "        |_ -> genera_lista (n-1) @ [n];;\n",
    "        \n",
    "genera_lista 4;;"
   ]
  },
  {
   "cell_type": "markdown",
   "id": "3050de41",
   "metadata": {},
   "source": [
    "**Esercizio 2.2.** Scrivere una funzione `media` che prende una lista di interi e calcola la media dei suoi elementi."
   ]
  },
  {
   "cell_type": "code",
   "execution_count": 7,
   "id": "e30c49f4",
   "metadata": {},
   "outputs": [
    {
     "data": {
      "text/plain": [
       "val media_1 : int list -> float = <fun>\n"
      ]
     },
     "execution_count": 7,
     "metadata": {},
     "output_type": "execute_result"
    },
    {
     "data": {
      "text/plain": [
       "val media_2 : int list -> float = <fun>\n"
      ]
     },
     "execution_count": 7,
     "metadata": {},
     "output_type": "execute_result"
    },
    {
     "data": {
      "text/plain": [
       "- : float = 4.\n"
      ]
     },
     "execution_count": 7,
     "metadata": {},
     "output_type": "execute_result"
    },
    {
     "data": {
      "text/plain": [
       "- : float = nan\n"
      ]
     },
     "execution_count": 7,
     "metadata": {},
     "output_type": "execute_result"
    }
   ],
   "source": [
    "let media_1 lis =\n",
    "    let rec sum l =\n",
    "        match l with\n",
    "            |[] -> 0.0\n",
    "            |x :: t -> float_of_int(x) +. sum t\n",
    "    in match lis with\n",
    "        |[] -> 0.0\n",
    "        |_ -> (sum lis)/. float_of_int(List.length lis);;\n",
    "\n",
    "let media_2 lis =\n",
    "    let f el acc = el + acc (*f: int -> int -> int*)\n",
    "    in\n",
    "    (*alla fold_right nel pacchetto 'List' si passa una funzione, un accumulatore e la lista*)\n",
    "    let sum = List.fold_right f lis 0\n",
    "    in\n",
    "    float_of_int(sum) /. float_of_int(List.length lis);;\n",
    "\n",
    "media_2 [2;4;1;9];;\n",
    "media_2 [];;"
   ]
  },
  {
   "cell_type": "markdown",
   "id": "bac65529",
   "metadata": {},
   "source": [
    "**Esercizio 2.3.** Scrivere una funzione `take` che prende una lista `lis` e un intero `n` e restituisce la lista contenente i primi `n` elementi di `lis`. Se `n` è minore di `0` resituisce la lista vuota."
   ]
  },
  {
   "cell_type": "code",
   "execution_count": null,
   "id": "dc507399",
   "metadata": {},
   "outputs": [],
   "source": [
    "let rec take lis n =\n",
    "    if (List.length lis) < n then []\n",
    "    else match lis with\n",
    "        |_ when n <= 0 -> []\n",
    "        |[] -> []\n",
    "        |x :: t -> x :: take t (n-1);;\n",
    "        \n",
    "take [1;2;3;4;5] 7;;\n",
    "take [] 2;;"
   ]
  },
  {
   "cell_type": "markdown",
   "id": "10d07874",
   "metadata": {},
   "source": [
    "**Esercizio 2.4.** Scrivere una funzione `drop` che prende una lista `lis` e un intero `n` e restituisce una lista contenente gli elementi di `lis` ad eccezione dei primi `n`. Se `n` è minore di `0` restituisce `lis`."
   ]
  },
  {
   "cell_type": "code",
   "execution_count": 5,
   "id": "fd79d8a3",
   "metadata": {},
   "outputs": [
    {
     "data": {
      "text/plain": [
       "val drop : 'a list -> int -> 'a list = <fun>\n"
      ]
     },
     "execution_count": 5,
     "metadata": {},
     "output_type": "execute_result"
    },
    {
     "data": {
      "text/plain": [
       "- : int list = [3; 4; 5; 6]\n"
      ]
     },
     "execution_count": 5,
     "metadata": {},
     "output_type": "execute_result"
    }
   ],
   "source": [
    "let rec drop lis n =\n",
    "    match lis with\n",
    "        |_ when n<=0 -> lis\n",
    "        |[] -> []\n",
    "        |x :: t -> drop t (n-1);;\n",
    "    \n",
    "drop [1;2;3;4;5;6;] 2;;"
   ]
  },
  {
   "cell_type": "markdown",
   "id": "bed0e953",
   "metadata": {},
   "source": [
    "**Esercizio 2.5.** Scrivere una funzione `somma_costante` che prende una lista di coppie di interi e verifica (restituendo `true` o `false`) se tutte le coppie hanno elementi la cui somma è sempre lo stesso valore."
   ]
  },
  {
   "cell_type": "code",
   "execution_count": 18,
   "id": "eb00b9bb",
   "metadata": {},
   "outputs": [
    {
     "data": {
      "text/plain": [
       "val somma_costante : (int * int) list -> bool = <fun>\n"
      ]
     },
     "execution_count": 18,
     "metadata": {},
     "output_type": "execute_result"
    },
    {
     "data": {
      "text/plain": [
       "- : bool = true\n"
      ]
     },
     "execution_count": 18,
     "metadata": {},
     "output_type": "execute_result"
    },
    {
     "data": {
      "text/plain": [
       "- : bool = true\n"
      ]
     },
     "execution_count": 18,
     "metadata": {},
     "output_type": "execute_result"
    },
    {
     "data": {
      "text/plain": [
       "- : bool = false\n"
      ]
     },
     "execution_count": 18,
     "metadata": {},
     "output_type": "execute_result"
    }
   ],
   "source": [
    "let rec somma_costante lis =\n",
    "    match lis with\n",
    "        |[] -> true\n",
    "        |(a, b) :: [] -> true\n",
    "        |(a, b) :: (c, d) :: t ->\n",
    "            if (a+b)==(c+d) \n",
    "                then true && somma_costante ((c, d)::t)\n",
    "                else false;;\n",
    "                \n",
    "somma_costante [];;\n",
    "somma_costante [(5,3);(2,6);(1,7);(4,4)];;\n",
    "somma_costante [(5,3);(2,6);(1,7);(4,7)];;"
   ]
  },
  {
   "cell_type": "markdown",
   "id": "049cb76b",
   "metadata": {},
   "source": [
    "**Esercizio 2.6.** Scrivere una funzione `ord` che prende una lista e verifica (restituendo `true` o `false`) se i suoi elementi sono ordinati in modo crescente."
   ]
  },
  {
   "cell_type": "code",
   "execution_count": 19,
   "id": "1cdab5d9",
   "metadata": {},
   "outputs": [
    {
     "data": {
      "text/plain": [
       "val ord : 'a list -> bool = <fun>\n"
      ]
     },
     "execution_count": 19,
     "metadata": {},
     "output_type": "execute_result"
    },
    {
     "data": {
      "text/plain": [
       "- : bool = false\n"
      ]
     },
     "execution_count": 19,
     "metadata": {},
     "output_type": "execute_result"
    },
    {
     "data": {
      "text/plain": [
       "- : bool = true\n"
      ]
     },
     "execution_count": 19,
     "metadata": {},
     "output_type": "execute_result"
    },
    {
     "data": {
      "text/plain": [
       "- : bool = true\n"
      ]
     },
     "execution_count": 19,
     "metadata": {},
     "output_type": "execute_result"
    }
   ],
   "source": [
    "let rec ord lis =\n",
    "    match lis with\n",
    "        |[] -> true\n",
    "        |_ :: [] -> true\n",
    "        |x :: y :: t -> if x < y\n",
    "            then true && ord (y :: t)\n",
    "            else false;;\n",
    "            \n",
    "ord [1;3;8;7;9;10];;\n",
    "ord [1;3;5;7;9;10];;\n",
    "ord []"
   ]
  },
  {
   "cell_type": "markdown",
   "id": "4a69ebea",
   "metadata": {},
   "source": [
    "**Esercizio 2.7.** Scrivere una funzione `min` che prende un elemento `x` e una lista `lis` e restituisce il minore tra `x` e il minimo della lista `lis`."
   ]
  },
  {
   "cell_type": "code",
   "execution_count": 21,
   "id": "72630209",
   "metadata": {},
   "outputs": [
    {
     "data": {
      "text/plain": [
       "val min : 'a -> 'a list -> 'a = <fun>\n"
      ]
     },
     "execution_count": 21,
     "metadata": {},
     "output_type": "execute_result"
    },
    {
     "data": {
      "text/plain": [
       "- : int = 1\n"
      ]
     },
     "execution_count": 21,
     "metadata": {},
     "output_type": "execute_result"
    },
    {
     "data": {
      "text/plain": [
       "- : int = 2\n"
      ]
     },
     "execution_count": 21,
     "metadata": {},
     "output_type": "execute_result"
    }
   ],
   "source": [
    "let rec min n lis =\n",
    "    match lis with\n",
    "        |[] -> n\n",
    "        |x :: [] -> if n < x \n",
    "            then n else x\n",
    "        |x :: t -> if n < x\n",
    "            then min n t\n",
    "            else min x t;;\n",
    "\n",
    "min 1 [4;7;2;5;9];;\n",
    "min 3 [4;7;2;5;9];;"
   ]
  },
  {
   "cell_type": "markdown",
   "id": "661e0048",
   "metadata": {},
   "source": [
    "**Esercizio 2.8.** Scrivere una funzione `remove` che prende un elemento `x` e una lista `lis` e restituisce una lista uguale a `lis` ma senza la prima occorrenza dell'elemento `x`."
   ]
  },
  {
   "cell_type": "code",
   "execution_count": 11,
   "id": "038e59f4",
   "metadata": {},
   "outputs": [
    {
     "data": {
      "text/plain": [
       "val remove : 'a -> 'a list -> 'a list = <fun>\n"
      ]
     },
     "execution_count": 11,
     "metadata": {},
     "output_type": "execute_result"
    },
    {
     "data": {
      "text/plain": [
       "- : int list = [2; 7; 4; 6; 3]\n"
      ]
     },
     "execution_count": 11,
     "metadata": {},
     "output_type": "execute_result"
    }
   ],
   "source": [
    "let rec remove x lis =\n",
    "    match lis with\n",
    "        |[] -> []\n",
    "        |a :: t ->\n",
    "            if a == x then t\n",
    "            else a :: remove x t;;\n",
    "            \n",
    "remove 9 [2;9;7;4;6;3];;"
   ]
  },
  {
   "cell_type": "markdown",
   "id": "a00da03d",
   "metadata": {},
   "source": [
    "**Esercizio 2.9.** Scrivere una funzione `sort` che prende una lista di elementi di qualunque tipo e restituisce una lista con gli stessi elementi ordinati in modo crescente. (Suggerimento: possono essere utili le funzioni `min` e `remove` degli esercizi precedenti)."
   ]
  },
  {
   "cell_type": "code",
   "execution_count": 15,
   "id": "1ad4ef38",
   "metadata": {},
   "outputs": [
    {
     "data": {
      "text/plain": [
       "val sort : 'a list -> 'a list = <fun>\n"
      ]
     },
     "execution_count": 15,
     "metadata": {},
     "output_type": "execute_result"
    },
    {
     "data": {
      "text/plain": [
       "- : 'a list = []\n"
      ]
     },
     "execution_count": 15,
     "metadata": {},
     "output_type": "execute_result"
    },
    {
     "data": {
      "text/plain": [
       "- : int list = [2; 3; 4; 6; 7; 9]\n"
      ]
     },
     "execution_count": 15,
     "metadata": {},
     "output_type": "execute_result"
    },
    {
     "data": {
      "text/plain": [
       "- : int list = [1; 2; 3; 4; 7; 8; 9]\n"
      ]
     },
     "execution_count": 15,
     "metadata": {},
     "output_type": "execute_result"
    },
    {
     "data": {
      "text/plain": [
       "- : int list = [2; 4; 5; 7; 9]\n"
      ]
     },
     "execution_count": 15,
     "metadata": {},
     "output_type": "execute_result"
    },
    {
     "data": {
      "text/plain": [
       "- : int list = [1; 3; 7; 8; 9; 10]\n"
      ]
     },
     "execution_count": 15,
     "metadata": {},
     "output_type": "execute_result"
    }
   ],
   "source": [
    "let rec sort lis =\n",
    "    let rec min n l =\n",
    "        match l with\n",
    "            |[] -> n\n",
    "            |x::[] -> if n<x then n else x\n",
    "            |x::t -> if n<x then min n t else min x t\n",
    "    in\n",
    "    let rec remove x l =\n",
    "        match l with\n",
    "            |[] -> []\n",
    "            |a :: t -> if a == x then t else a :: remove x t\n",
    "    in\n",
    "    match lis with\n",
    "        |[] -> []\n",
    "        |x :: t -> if x=(min x t)\n",
    "                    then x::(sort t)\n",
    "                    else (min x t)::sort(x::(remove (min x t) t));;\n",
    "            \n",
    "sort [];;\n",
    "sort [2;9;7;4;6;3];;\n",
    "sort [9;8;7;3;2;4;1];;\n",
    "sort [4;7;2;5;9];;\n",
    "sort [1;3;8;7;9;10];;"
   ]
  },
  {
   "cell_type": "markdown",
   "id": "29d8476c",
   "metadata": {},
   "source": [
    "**Esercizio 2.10.** Scrivere una funzione (o meglio, un predicato) `set` che prende una lista e verifica (restituendo `true` o `false`) se i suoi elementi sono tutti diversi tra loro, cioè se la lista è una corretta rappresentazione di un insieme. La funzione deve avere tipo `'a -> bool`, in modo da poter essere essere applicata ad insiemi con elementi di qualunque tipo."
   ]
  },
  {
   "cell_type": "code",
   "execution_count": 26,
   "id": "7d617cce",
   "metadata": {},
   "outputs": [
    {
     "data": {
      "text/plain": [
       "val set : 'a list -> bool = <fun>\n"
      ]
     },
     "execution_count": 26,
     "metadata": {},
     "output_type": "execute_result"
    },
    {
     "data": {
      "text/plain": [
       "- : bool = true\n"
      ]
     },
     "execution_count": 26,
     "metadata": {},
     "output_type": "execute_result"
    },
    {
     "data": {
      "text/plain": [
       "- : bool = true\n"
      ]
     },
     "execution_count": 26,
     "metadata": {},
     "output_type": "execute_result"
    },
    {
     "data": {
      "text/plain": [
       "- : bool = false\n"
      ]
     },
     "execution_count": 26,
     "metadata": {},
     "output_type": "execute_result"
    }
   ],
   "source": [
    "let set lis =\n",
    "    let rec check e l =\n",
    "        match l with\n",
    "            |[] -> false\n",
    "            |x::t -> if x = e then true else check e t\n",
    "    in\n",
    "    let rec insec l el =\n",
    "        match l with\n",
    "            |[] -> true\n",
    "            |x::t -> if (check x el) \n",
    "                        then false\n",
    "                        else true && insec t (x::el)\n",
    "    in insec lis [];;\n",
    "    \n",
    "set [];;\n",
    "set [1;2;3;4];;\n",
    "set [1;2;2;3;4];;"
   ]
  },
  {
   "cell_type": "markdown",
   "id": "50cd639d",
   "metadata": {},
   "source": [
    "**Esercizio 2.11.** Un multi-insieme (o multiset) estende il concetto di insieme consentendo la possibilità di avere più occorrenze dello stesso elemento. Un multiset può essere definito come una lista di coppie `(x,n)` in cui `x` è l'elemento considerato e `n` è il numero di occorrenze di quell'elemento. Scrivere una funzione `multiset` che, data una lista di coppie di tipo `'a*int`, verifica se è una corretta rappresentazione di un multiset (contentente coppie che sono tutte diverse tra loro nel primo elemento). "
   ]
  },
  {
   "cell_type": "code",
   "execution_count": 28,
   "id": "21ea1764",
   "metadata": {},
   "outputs": [
    {
     "data": {
      "text/plain": [
       "val multiset : ('a * 'b) list -> bool = <fun>\n"
      ]
     },
     "execution_count": 28,
     "metadata": {},
     "output_type": "execute_result"
    },
    {
     "data": {
      "text/plain": [
       "- : bool = true\n"
      ]
     },
     "execution_count": 28,
     "metadata": {},
     "output_type": "execute_result"
    },
    {
     "data": {
      "text/plain": [
       "- : bool = true\n"
      ]
     },
     "execution_count": 28,
     "metadata": {},
     "output_type": "execute_result"
    },
    {
     "data": {
      "text/plain": [
       "- : bool = false\n"
      ]
     },
     "execution_count": 28,
     "metadata": {},
     "output_type": "execute_result"
    }
   ],
   "source": [
    "let multiset lis =\n",
    "    let rec check e l =\n",
    "        match l with\n",
    "            |[] -> false\n",
    "            |x::t -> if x = e then true else check e t\n",
    "    in \n",
    "    let rec inmultiset l el =\n",
    "        match l with\n",
    "            |[] -> true\n",
    "            |(x,y)::t -> if (check x el)\n",
    "                            then false\n",
    "                            else true && inmultiset t (x::el)\n",
    "    in inmultiset lis [];;\n",
    "\n",
    "multiset [];;\n",
    "multiset [(1,3);(2,1);(3,8);(4,3)];;\n",
    "multiset [(1,3);(2,1);(2,3);(3,8);(4,3)];;"
   ]
  },
  {
   "cell_type": "markdown",
   "id": "14eb6b36",
   "metadata": {},
   "source": [
    "**Esercizio 2.12.** Scrivere una funzione `crea_multiset` che, data una lista di qualunque tipo anche con elementi ripetuti, la trasforma in un multiset verificabile tramite la funzione `multiset` dell'esercizio precedente."
   ]
  },
  {
   "cell_type": "code",
   "execution_count": 57,
   "id": "e7d643df",
   "metadata": {},
   "outputs": [
    {
     "ename": "error",
     "evalue": "compile_error",
     "output_type": "error",
     "traceback": [
      "File \"[57]\", line 37, characters 44-50:\n37 |             |x::t -> in_multi_create orlis (newlis::(check_and_add x orlis))\n                                                 ^^^^^^\nError: This expression has type 'a list\n       but an expression was expected of type 'a\n       The type variable 'a occurs inside 'a list\n"
     ]
    }
   ],
   "source": [
    "(*let crea_multiset lis =\n",
    "    let rec check e l i =\n",
    "        match l with\n",
    "            |[] -> -1\n",
    "            |x::t -> if x = e then i else check e t (i+1)\n",
    "    in\n",
    "    let rec add e l =\n",
    "        match l with\n",
    "            |(x,c)::t when x = e -> (x,(c+1))::t\n",
    "            |(x,c)::t -> (x,c)::(add e t)\n",
    "    in\n",
    "    let rec in_crea_multiset l el resl =\n",
    "        match l with\n",
    "            |[] -> [()]\n",
    "            |x :: t ->\n",
    "                if (check x el 0) = -1\n",
    "                    then resl::in_crea_multiset t el resl\n",
    "                    else add x resl\n",
    "    in in_crea_multiset lis [];;*)\n",
    "    \n",
    "let crea_multiset lis =\n",
    "    let rec check_and_add e l =\n",
    "        match l with\n",
    "            |[] -> [(e, 1)]\n",
    "            |(x,c)::t-> if e = x then (x,(c+1))::t\n",
    "                                    else (x,c)::(check_and_add e t)\n",
    "    in\n",
    "    let rec only_check e l =\n",
    "        match l with\n",
    "            |[] -> false\n",
    "            |(x,c)::t -> if x = e then true\n",
    "                                    else only_check e t\n",
    "    in\n",
    "    let rec in_multi_create orlis newlis=\n",
    "        match orlis with\n",
    "            |[] -> []\n",
    "            |x::t -> in_multi_create orlis (newlis::(check_and_add x orlis))\n",
    "    in in_multi_set lis [];;\n",
    "    \n",
    "\n",
    "crea_multiset [];;"
   ]
  }
 ],
 "metadata": {
  "kernelspec": {
   "display_name": "OCaml default",
   "language": "OCaml",
   "name": "ocaml-jupyter"
  },
  "language_info": {
   "codemirror_mode": "text/x-ocaml",
   "file_extension": ".ml",
   "mimetype": "text/x-ocaml",
   "name": "OCaml",
   "nbconverter_exporter": null,
   "pygments_lexer": "OCaml",
   "version": "4.08.1"
  }
 },
 "nbformat": 4,
 "nbformat_minor": 5
}
