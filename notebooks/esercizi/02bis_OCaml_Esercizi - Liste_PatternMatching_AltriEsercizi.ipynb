{
 "cells": [
  {
   "cell_type": "markdown",
   "id": "e03e09f6",
   "metadata": {},
   "source": [
    "# Esercizi OCaml - 02bis - Liste e Pattern Matching - Altri esercizi"
   ]
  },
  {
   "cell_type": "markdown",
   "id": "8bdc6bf5",
   "metadata": {},
   "source": [
    "## Funzioni ricorsive su liste"
   ]
  },
  {
   "cell_type": "markdown",
   "id": "64016a45",
   "metadata": {},
   "source": [
    "**ATTENZIONE:**\n",
    "\n",
    "* Per risolvere i seguenti esercizi provare innanzitutto a definire delle funzioni ricorsive in modo esplicito (per intenderci con `let rec`) e poi provare a dare una soluzione diversa non utilizzando la ricorsione esplicita, ma ricorrendo alle funzioni higher-order viste a lezione (`List.map`,`List.filter`,`List.fold_right`,`List.fold_left`, eccetera...)\n",
    "* Nella soluzione è possibile (e in alcuni casi, consigliato) definire funzioni ausiliarie usando il costrutto `let ...  in`. Nelle soluzioni che si basano su ricorsione esplicita la funzione ricorsiva può essere quella principale o una (o più) di quelle ausiliarie."
   ]
  },
  {
   "cell_type": "markdown",
   "id": "1c7f55c5",
   "metadata": {
    "cell_style": "center"
   },
   "source": [
    "**Esercizio 2bis.1.** Scrivere una funzione `contamax` che prende una lista `lis` e restituisce il numero di occorrenze del valore massimo. Si può assumere che la lista non sia vuota (definendo quindi una funzione parziale, non definita su lista vuota) oppure restituire un valore arbirario nel caso di lista vuota. Ad esempio, `contamax [3;4;2;3;4;1;4]` restituisce `3` in quanto il valore massimo (che è `4`) occorre tre volte nella lista."
   ]
  },
  {
   "cell_type": "code",
   "execution_count": 21,
   "id": "b8ef708f",
   "metadata": {},
   "outputs": [
    {
     "ename": "error",
     "evalue": "compile_error",
     "output_type": "error",
     "traceback": [
      "File \"[21]\", line 11, characters 20-30:\n11 |     in counter lis (finder lis -1) 0;;\n                         ^^^^^^^^^^\nError: This expression has type 'a -> 'a\n       but an expression was expected of type int\n"
     ]
    }
   ],
   "source": [
    "let contamax lis =\n",
    "    let temp = -1 in\n",
    "    let rec finder l max =\n",
    "        match l with\n",
    "            |[] -> max\n",
    "            |x :: t -> if x > max then finder t x else finder t max\n",
    "    in let rec counter l max c =\n",
    "            match l with\n",
    "                |[] -> c\n",
    "                |x :: t -> if x = max then counter t max (c+1) else counter t max c\n",
    "    in counter lis (finder lis -1) 0;;\n",
    "    \n",
    "contamax [3;4;2;3;4;1;4];;"
   ]
  },
  {
   "cell_type": "markdown",
   "id": "3050de41",
   "metadata": {},
   "source": [
    "**Esercizio 2bis.2.** Scrivere una funzione `noripetizioni` che prende una lista di interi e restituisce una lista con gli stessi elementi ma senza ripetizioni."
   ]
  },
  {
   "cell_type": "code",
   "execution_count": null,
   "id": "e30c49f4",
   "metadata": {},
   "outputs": [],
   "source": []
  },
  {
   "cell_type": "markdown",
   "id": "bac65529",
   "metadata": {},
   "source": [
    "**Esercizio 2bis.3.** Scrivere una funzione `twice` che prende una lista `lis` e un intero `n` e restituisce `true` se la `n` occorre esattamente due volte in `lis`, restituisce `false` altrimenti."
   ]
  },
  {
   "cell_type": "code",
   "execution_count": null,
   "id": "dc507399",
   "metadata": {},
   "outputs": [],
   "source": []
  },
  {
   "cell_type": "markdown",
   "id": "10d07874",
   "metadata": {},
   "source": [
    "**Esercizio 2bis.4.** Scrivere una funzione `sumflat` che prende una lista di liste di interi `lis` e restituisce una lista in cui ogni elemento corrisponde alla somma degli elementi di una lista di interi in `lis`. Ad esempio, `sumflat [[8;2];[];[6;3;4]]` restituisce `[10;0;13]`."
   ]
  },
  {
   "cell_type": "code",
   "execution_count": null,
   "id": "fd79d8a3",
   "metadata": {},
   "outputs": [],
   "source": []
  }
 ],
 "metadata": {
  "kernelspec": {
   "display_name": "OCaml default",
   "language": "OCaml",
   "name": "ocaml-jupyter"
  },
  "language_info": {
   "codemirror_mode": "text/x-ocaml",
   "file_extension": ".ml",
   "mimetype": "text/x-ocaml",
   "name": "OCaml",
   "nbconverter_exporter": null,
   "pygments_lexer": "OCaml",
   "version": "4.08.1"
  }
 },
 "nbformat": 4,
 "nbformat_minor": 5
}
