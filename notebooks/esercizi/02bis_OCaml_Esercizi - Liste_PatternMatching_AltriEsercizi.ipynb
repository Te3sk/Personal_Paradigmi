{
 "cells": [
  {
   "cell_type": "markdown",
   "id": "e03e09f6",
   "metadata": {},
   "source": [
    "# Esercizi OCaml - 02bis - Liste e Pattern Matching - Altri esercizi"
   ]
  },
  {
   "cell_type": "markdown",
   "id": "8bdc6bf5",
   "metadata": {},
   "source": [
    "## Funzioni ricorsive su liste"
   ]
  },
  {
   "cell_type": "markdown",
   "id": "64016a45",
   "metadata": {},
   "source": [
    "**ATTENZIONE:**\n",
    "\n",
    "* Per risolvere i seguenti esercizi provare innanzitutto a definire delle funzioni ricorsive in modo esplicito (per intenderci con `let rec`) e poi provare a dare una soluzione diversa non utilizzando la ricorsione esplicita, ma ricorrendo alle funzioni higher-order viste a lezione (`List.map`,`List.filter`,`List.fold_right`,`List.fold_left`, eccetera...)\n",
    "* Nella soluzione è possibile (e in alcuni casi, consigliato) definire funzioni ausiliarie usando il costrutto `let ...  in`. Nelle soluzioni che si basano su ricorsione esplicita la funzione ricorsiva può essere quella principale o una (o più) di quelle ausiliarie."
   ]
  },
  {
   "cell_type": "markdown",
   "id": "1c7f55c5",
   "metadata": {
    "cell_style": "center"
   },
   "source": [
    "**Esercizio 2bis.1.** Scrivere una funzione `contamax` che prende una lista `lis` e restituisce il numero di occorrenze del valore massimo. Si può assumere che la lista non sia vuota (definendo quindi una funzione parziale, non definita su lista vuota) oppure restituire un valore arbirario nel caso di lista vuota. Ad esempio, `contamax [3;4;2;3;4;1;4]` restituisce `3` in quanto il valore massimo (che è `4`) occorre tre volte nella lista."
   ]
  },
  {
   "cell_type": "code",
   "execution_count": 13,
   "id": "daee7829",
   "metadata": {},
   "outputs": [
    {
     "data": {
      "text/plain": [
       "val find_max : int list -> int = <fun>\n"
      ]
     },
     "execution_count": 13,
     "metadata": {},
     "output_type": "execute_result"
    },
    {
     "data": {
      "text/plain": [
       "- : int = 4\n"
      ]
     },
     "execution_count": 13,
     "metadata": {},
     "output_type": "execute_result"
    }
   ],
   "source": [
    "let rec find_max lis =\n",
    "        match lis with\n",
    "            |[] -> -1\n",
    "            |t::l -> if t > (find_max l)\n",
    "                        then t\n",
    "                        else find_max l;;\n",
    "                            \n",
    "find_max [3;4;2;3;4;1;4];;"
   ]
  },
  {
   "cell_type": "code",
   "execution_count": 1,
   "id": "b8ef708f",
   "metadata": {},
   "outputs": [
    {
     "data": {
      "text/plain": [
       "val contamax1 : int list -> int = <fun>\n"
      ]
     },
     "execution_count": 1,
     "metadata": {},
     "output_type": "execute_result"
    },
    {
     "data": {
      "text/plain": [
       "- : int = 3\n"
      ]
     },
     "execution_count": 1,
     "metadata": {},
     "output_type": "execute_result"
    }
   ],
   "source": [
    "let contamax1 lis =\n",
    "    let rec find_max lis =\n",
    "        match lis with\n",
    "            |[] -> -1\n",
    "            |t :: l -> if t > find_max l \n",
    "                            then t\n",
    "                            else find_max l\n",
    "    in\n",
    "    let rec counter lis n c =\n",
    "        match lis with\n",
    "            |[] -> c\n",
    "            |t :: l -> if t = n\n",
    "                            then counter l n (c+1)\n",
    "                            else counter l n c\n",
    "    in counter lis (find_max lis) 0;;\n",
    "    \n",
    "contamax1 [3;4;2;3;4;1;4];;"
   ]
  },
  {
   "cell_type": "markdown",
   "id": "3050de41",
   "metadata": {},
   "source": [
    "**Esercizio 2bis.2.** Scrivere una funzione `noripetizioni` che prende una lista di interi e restituisce una lista con gli stessi elementi ma senza ripetizioni."
   ]
  },
  {
   "cell_type": "code",
   "execution_count": 8,
   "id": "e30c49f4",
   "metadata": {},
   "outputs": [
    {
     "data": {
      "text/plain": [
       "val noripetizioni : 'a list -> 'a list = <fun>\n"
      ]
     },
     "execution_count": 8,
     "metadata": {},
     "output_type": "execute_result"
    },
    {
     "data": {
      "text/plain": [
       "- : int list = [3; 4; 2; 1]\n"
      ]
     },
     "execution_count": 8,
     "metadata": {},
     "output_type": "execute_result"
    }
   ],
   "source": [
    "let rec noripetizioni lis =        \n",
    "    let rec fnd l n =\n",
    "        match l with\n",
    "            |[] -> []\n",
    "            |x::t -> if x = n\n",
    "                        then fnd t n\n",
    "                        else x::(fnd t n)\n",
    "    in let rec scroller l =\n",
    "        match l with\n",
    "            |[] -> []\n",
    "            |x::t -> x::(fnd (scroller t) x)\n",
    "    in scroller lis;;\n",
    "    \n",
    "noripetizioni [3;4;2;3;4;1;4];;"
   ]
  },
  {
   "cell_type": "markdown",
   "id": "bac65529",
   "metadata": {},
   "source": [
    "**Esercizio 2bis.3.** Scrivere una funzione `twice` che prende una lista `lis` e un intero `n` e restituisce `true` se la `n` occorre esattamente due volte in `lis`, restituisce `false` altrimenti."
   ]
  },
  {
   "cell_type": "code",
   "execution_count": 16,
   "id": "dc507399",
   "metadata": {},
   "outputs": [
    {
     "data": {
      "text/plain": [
       "val twice : 'a list -> 'a -> string = <fun>\n"
      ]
     },
     "execution_count": 16,
     "metadata": {},
     "output_type": "execute_result"
    },
    {
     "data": {
      "text/plain": [
       "- : string = \"False\"\n"
      ]
     },
     "execution_count": 16,
     "metadata": {},
     "output_type": "execute_result"
    }
   ],
   "source": [
    "let twice lis n =\n",
    "    let rec counter l m c =\n",
    "        match l with\n",
    "            |[] -> c\n",
    "            |x::t -> if x=m then counter t m (c+1)\n",
    "                            else counter t m c\n",
    "    in if (counter lis n 0) = 2 then \"True\" else \"False\";;\n",
    "    \n",
    "    \n",
    "twice [3;4;2;3;4;1;4] 4;;"
   ]
  },
  {
   "cell_type": "markdown",
   "id": "10d07874",
   "metadata": {},
   "source": [
    "**Esercizio 2bis.4.** Scrivere una funzione `sumflat` che prende una lista di liste di interi `lis` e restituisce una lista in cui ogni elemento corrisponde alla somma degli elementi di una lista di interi in `lis`. Ad esempio, `sumflat [[8;2];[];[6;3;4]]` restituisce `[10;0;13]`."
   ]
  },
  {
   "cell_type": "code",
   "execution_count": 20,
   "id": "fd79d8a3",
   "metadata": {},
   "outputs": [
    {
     "data": {
      "text/plain": [
       "val sumflat : int list list -> int list = <fun>\n"
      ]
     },
     "execution_count": 20,
     "metadata": {},
     "output_type": "execute_result"
    },
    {
     "data": {
      "text/plain": [
       "- : int list = [10; 0; 13; 3; 0; 14]\n"
      ]
     },
     "execution_count": 20,
     "metadata": {},
     "output_type": "execute_result"
    }
   ],
   "source": [
    "let sumflat lis =\n",
    "    let rec summer l =\n",
    "        match l with\n",
    "            |[] -> 0;\n",
    "            |x::t -> x + (summer t)\n",
    "    in let rec scroller l =\n",
    "        match l with\n",
    "            |[] -> []\n",
    "            |x::t -> (summer x)::(scroller t)\n",
    "    in scroller lis;;\n",
    "    \n",
    "sumflat [[8;2];[];[6;3;4];[3];[];[5;8;1]];;"
   ]
  }
 ],
 "metadata": {
  "kernelspec": {
   "display_name": "OCaml default",
   "language": "OCaml",
   "name": "ocaml-jupyter"
  },
  "language_info": {
   "codemirror_mode": "text/x-ocaml",
   "file_extension": ".ml",
   "mimetype": "text/x-ocaml",
   "name": "OCaml",
   "nbconverter_exporter": null,
   "pygments_lexer": "OCaml",
   "version": "4.08.1"
  }
 },
 "nbformat": 4,
 "nbformat_minor": 5
}
