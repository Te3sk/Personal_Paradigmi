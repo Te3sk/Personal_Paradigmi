{
 "cells": [
  {
   "cell_type": "markdown",
   "id": "e03e09f6",
   "metadata": {},
   "source": [
    "# Esercizi OCaml - 03 - Tipi Algebrici"
   ]
  },
  {
   "cell_type": "markdown",
   "id": "8256c3e0",
   "metadata": {},
   "source": [
    "## 1. Implementazione pila"
   ]
  },
  {
   "cell_type": "markdown",
   "id": "67be07c4",
   "metadata": {},
   "source": [
    "**Esercizio 3.1.** Definire due funzioni, `push` e `pop` che, applicate ad una lista di elementi di qualunque tipo, implementino le operazioni tipiche di una pila. In particolare, la funzione `push` prende la lista e un elemento e restituisce una nuova lista con il nuovo elemento aggiunto in testa. La funzione `pop` prende la lista e restituisce una coppia `(elem,lis')` dove `elem` è il primo elemento della lista passata, e `lis'` è la nuova lista, senza il primo elemento. Qualora `pop` sia applicata alla lista vuota. Per gestire il caso in cui si applichi `pop` alla lista vuota, utilizzare un **tipo opzione** per `elem`."
   ]
  },
  {
   "cell_type": "code",
   "execution_count": 25,
   "id": "18f50fbc",
   "metadata": {},
   "outputs": [
    {
     "data": {
      "text/plain": [
       "val push : 'a list -> 'a -> 'a list = <fun>\n"
      ]
     },
     "execution_count": 25,
     "metadata": {},
     "output_type": "execute_result"
    },
    {
     "data": {
      "text/plain": [
       "val pop : 'a list -> 'a option * 'a list = <fun>\n"
      ]
     },
     "execution_count": 25,
     "metadata": {},
     "output_type": "execute_result"
    }
   ],
   "source": [
    "let push lis n = n::lis;;\n",
    "let pop lis =\n",
    "    match lis with\n",
    "        |[] -> (None,[])\n",
    "        |x::t -> (Some x,t);;"
   ]
  },
  {
   "cell_type": "markdown",
   "id": "ea1879a2",
   "metadata": {},
   "source": [
    "**Esercizio 3.2.** Usando la funzione `pop` definita nell'esercizio precedente, definire una funzione ricorsiva `somma_pila` che, data una lista di interi, calcola la sommma di tutti gli elementi in essa contenuti. **ATTENZIONE:** non usare altri modi per accedere alla lista se non la funzione `pop` (es. non confrontarla con `[]` o decomporla tramite pattern matching).\n",
    "\n"
   ]
  },
  {
   "cell_type": "code",
   "execution_count": 28,
   "id": "6f38b09d",
   "metadata": {},
   "outputs": [
    {
     "data": {
      "text/plain": [
       "val somma_pila : int list -> int = <fun>\n"
      ]
     },
     "execution_count": 28,
     "metadata": {},
     "output_type": "execute_result"
    },
    {
     "data": {
      "text/plain": [
       "- : int = 22\n"
      ]
     },
     "execution_count": 28,
     "metadata": {},
     "output_type": "execute_result"
    }
   ],
   "source": [
    "let rec somma_pila pila =\n",
    "    match pop pila with\n",
    "        |(None, _) -> 0\n",
    "        |(Some n, p) -> n + somma_pila p;;\n",
    "        \n",
    "somma_pila [7;2;9;4];;"
   ]
  },
  {
   "cell_type": "markdown",
   "id": "8bdc6bf5",
   "metadata": {},
   "source": [
    "## 2. Implementazione di alberi di decisione"
   ]
  },
  {
   "cell_type": "markdown",
   "id": "64016a45",
   "metadata": {},
   "source": [
    "Un albero di decisione è un albero che, dato un insieme di dati in input, consente di determinare un output (la decisione) in funzione di una serie di test successivi effettuati sull'input. Vedere [queste slides](https://www.math.unipd.it/~sperduti/SI08/alberi_decisione.pdf) (solo le prime) per una spiegazione con un esempio.\n",
    "\n",
    "L'idea è che ogni nodo dell'albero esprime un test. Se l'input supera il test si procede effettuando i test nel sottoalbero sinistro del nodo corrente, mentre, in caso contrario, si procede con il sottoalbero destro. Ogni foglia dell'albero contiene un possibile output (la decisione) che viene raggiunto a seconda dei test superati. Ad esempio, un albero di decisione per decidere se prendere l'ombrello in funzione delle condizioni metereologiche:\n",
    "\n",
    "![esempio di albero di decisione](albero-di-decisione-esempio.gif \"Albero di decisione\")"
   ]
  },
  {
   "cell_type": "markdown",
   "id": "1c7f55c5",
   "metadata": {
    "cell_style": "center"
   },
   "source": [
    "Assumendo che l'input abbia tipo `'a` (nell'esempio della piogga l'input potrebbe essere un record con vari campi relativi ai vari parametri climatici) e che l'output abbia tipo `'b` (nell'esempio, un booleano che indica se prendere l'ombrello o meno), un albero di decisione può essere generalizzato come un albero i cui nodi intermedi contengono un predicato (una funzione) su `'a` che rappresenta il test da effettuare in quel nodo, e le foglie contengono un valore di tipo `'b` (l'output raggiunto). Questa è la definizione del tipo `decision_tree` con costruttori `Nodo` e `Foglia` per le due tipologie di nodo. Si noti le definizioni di tipo con più di un parametro (come in questo caso) richiedono di mettere i parametri tra parentesi)."
   ]
  },
  {
   "cell_type": "code",
   "execution_count": 30,
   "id": "b8ef708f",
   "metadata": {},
   "outputs": [
    {
     "data": {
      "text/plain": [
       "type ('a, 'b) decision_tree =\n",
       "    Nodo of ('a -> bool) * ('a, 'b) decision_tree * ('a, 'b) decision_tree\n",
       "  | Foglia of 'b\n"
      ]
     },
     "execution_count": 30,
     "metadata": {},
     "output_type": "execute_result"
    }
   ],
   "source": [
    "type ('a,'b) decision_tree = \n",
    "  | Nodo of ('a -> bool) * ('a,'b) decision_tree * ('a,'b) decision_tree\n",
    "  | Foglia of 'b ;;"
   ]
  },
  {
   "cell_type": "markdown",
   "id": "3050de41",
   "metadata": {},
   "source": [
    "**Esercizio 3.3.** Scrivere una funzione `apply_tree` di tipo `('a, 'b) decision_tree -> 'a -> 'b` che, dato un albero di decisione e un possibile input, restituisce l'output corrispondente, eseguendo i test nel modo opportuno"
   ]
  },
  {
   "cell_type": "code",
   "execution_count": 31,
   "id": "e30c49f4",
   "metadata": {},
   "outputs": [
    {
     "data": {
      "text/plain": [
       "val apply_tree : ('a, 'b) decision_tree -> 'a -> 'b = <fun>\n"
      ]
     },
     "execution_count": 31,
     "metadata": {},
     "output_type": "execute_result"
    }
   ],
   "source": [
    "let rec apply_tree t input =\n",
    "    match t with\n",
    "        |Foglia x -> x\n",
    "        |Nodo (check, sx, dx) -> if (check input) then  apply_tree sx input else apply_tree dx input;;"
   ]
  },
  {
   "cell_type": "markdown",
   "id": "bac65529",
   "metadata": {},
   "source": [
    "**Esercizio 3.4.** Si consideri il seguente tipo che descrive lo stato di salute di un paziente (temperatura corporea e frequenza cardiaca):"
   ]
  },
  {
   "cell_type": "code",
   "execution_count": 34,
   "id": "dc507399",
   "metadata": {},
   "outputs": [
    {
     "data": {
      "text/plain": [
       "type paziente = { temp : float; battiti : int; }\n"
      ]
     },
     "execution_count": 34,
     "metadata": {},
     "output_type": "execute_result"
    }
   ],
   "source": [
    "type paziente = {temp: float; battiti: int;}"
   ]
  },
  {
   "cell_type": "markdown",
   "id": "c8e72ebe",
   "metadata": {},
   "source": [
    "Si definisca un albero di decisione il cui output è una stringa tra `\"Malato\"`, `\"Alterazione\"` e `\"Sano\"` e i cui test consentano di classificare i pazienti come segue:\n",
    "* se la temperatura è almeno 38, il paziente è malato\n",
    "* se la temperatura è almeno 37 e il battito è almeno 80, il paziente è malato\n",
    "* se la temperatura è almeno 37 e il battito è minore di 80, il paziente ha una alterazione\n",
    "* se la temperatura è minore di 37 e il battito è almeno 80, il paziente ha una alterazione\n",
    "* se la temperatura è minore di 37 e il battito è minore di 80, il paziente è sano\n",
    "\n",
    "**NOTA**: associare il nodo che rappresenta la radice dell'albero alla variabile `radice`\n",
    "\n",
    "**SUGGERIMENTO**: Procedere in questo modo: (1) pensare all'albero e disegnarlo su carta; (2) definire i nodi uno alla volta partendo dalle foglie e risalendo."
   ]
  },
  {
   "cell_type": "code",
   "execution_count": 39,
   "id": "66829ffb",
   "metadata": {},
   "outputs": [
    {
     "data": {
      "text/plain": [
       "val healty_leaf : ('a, string) decision_tree = Foglia \"Healty\"\n"
      ]
     },
     "execution_count": 39,
     "metadata": {},
     "output_type": "execute_result"
    },
    {
     "data": {
      "text/plain": [
       "val alteration_leaf : ('a, string) decision_tree = Foglia \"Alterazione\"\n"
      ]
     },
     "execution_count": 39,
     "metadata": {},
     "output_type": "execute_result"
    },
    {
     "data": {
      "text/plain": [
       "val sick_leaf : ('a, string) decision_tree = Foglia \"Malato\"\n"
      ]
     },
     "execution_count": 39,
     "metadata": {},
     "output_type": "execute_result"
    },
    {
     "data": {
      "text/plain": [
       "val nodo3 : (paziente, string) decision_tree =\n",
       "  Nodo (<fun>, Foglia \"Alterazione\", Foglia \"Healty\")\n"
      ]
     },
     "execution_count": 39,
     "metadata": {},
     "output_type": "execute_result"
    },
    {
     "data": {
      "text/plain": [
       "val nodo2 : (paziente, string) decision_tree =\n",
       "  Nodo (<fun>, Foglia \"Alterazione\",\n",
       "   Nodo (<fun>, Foglia \"Alterazione\", Foglia \"Healty\"))\n"
      ]
     },
     "execution_count": 39,
     "metadata": {},
     "output_type": "execute_result"
    },
    {
     "data": {
      "text/plain": [
       "val nodo1 : (paziente, string) decision_tree =\n",
       "  Nodo (<fun>, Foglia \"Malato\",\n",
       "   Nodo (<fun>, Foglia \"Alterazione\",\n",
       "    Nodo (<fun>, Foglia \"Alterazione\", Foglia \"Healty\")))\n"
      ]
     },
     "execution_count": 39,
     "metadata": {},
     "output_type": "execute_result"
    },
    {
     "data": {
      "text/plain": [
       "val radice : (paziente, string) decision_tree =\n",
       "  Nodo (<fun>, Foglia \"Malato\",\n",
       "   Nodo (<fun>, Foglia \"Malato\",\n",
       "    Nodo (<fun>, Foglia \"Alterazione\",\n",
       "     Nodo (<fun>, Foglia \"Alterazione\", Foglia \"Healty\"))))\n"
      ]
     },
     "execution_count": 39,
     "metadata": {},
     "output_type": "execute_result"
    }
   ],
   "source": [
    "let healty_leaf = Foglia \"Healty\";;\n",
    "let alteration_leaf = Foglia \"Alterazione\";;\n",
    "let sick_leaf = Foglia \"Malato\";;\n",
    "let nodo3 = Nodo((fun pat -> pat.battiti >= 80), alteration_leaf, healty_leaf);;\n",
    "let nodo2 = Nodo((fun pat -> pat.temp >= 37.), alteration_leaf, nodo3);;\n",
    "let nodo1 = Nodo((fun pat -> (pat.temp >= 37.) && (pat.battiti >= 80)), sick_leaf, nodo2);;\n",
    "let radice = Nodo((fun pat -> pat.temp >= 38.), sick_leaf, nodo1);;"
   ]
  },
  {
   "cell_type": "markdown",
   "id": "10d07874",
   "metadata": {},
   "source": [
    "Eseguire le seguenti prove per verificare il corretto funzionamento dell'albero\n",
    "\n",
    "**ATTENZIONE**: in caso qualche prova fallisse l'errore potrebbe essere nella costruzione dell'albero oppure nell'implementazione di `apply_tree`!"
   ]
  },
  {
   "cell_type": "code",
   "execution_count": 40,
   "id": "fd79d8a3",
   "metadata": {},
   "outputs": [
    {
     "data": {
      "text/plain": [
       "val diagnosi : paziente -> string = <fun>\n"
      ]
     },
     "execution_count": 40,
     "metadata": {},
     "output_type": "execute_result"
    },
    {
     "data": {
      "text/plain": [
       "val paziente1 : paziente = {temp = 38.5; battiti = 100}\n"
      ]
     },
     "execution_count": 40,
     "metadata": {},
     "output_type": "execute_result"
    },
    {
     "data": {
      "text/plain": [
       "val paziente2 : paziente = {temp = 38.5; battiti = 70}\n"
      ]
     },
     "execution_count": 40,
     "metadata": {},
     "output_type": "execute_result"
    },
    {
     "data": {
      "text/plain": [
       "val paziente3 : paziente = {temp = 37.3; battiti = 100}\n"
      ]
     },
     "execution_count": 40,
     "metadata": {},
     "output_type": "execute_result"
    },
    {
     "data": {
      "text/plain": [
       "val paziente4 : paziente = {temp = 37.3; battiti = 70}\n"
      ]
     },
     "execution_count": 40,
     "metadata": {},
     "output_type": "execute_result"
    },
    {
     "data": {
      "text/plain": [
       "val paziente5 : paziente = {temp = 36.8; battiti = 100}\n"
      ]
     },
     "execution_count": 40,
     "metadata": {},
     "output_type": "execute_result"
    },
    {
     "data": {
      "text/plain": [
       "val paziente6 : paziente = {temp = 36.8; battiti = 70}\n"
      ]
     },
     "execution_count": 40,
     "metadata": {},
     "output_type": "execute_result"
    },
    {
     "data": {
      "text/plain": [
       "- : string = \"Malato\"\n"
      ]
     },
     "execution_count": 40,
     "metadata": {},
     "output_type": "execute_result"
    },
    {
     "data": {
      "text/plain": [
       "- : string = \"Malato\"\n"
      ]
     },
     "execution_count": 40,
     "metadata": {},
     "output_type": "execute_result"
    },
    {
     "data": {
      "text/plain": [
       "- : string = \"Malato\"\n"
      ]
     },
     "execution_count": 40,
     "metadata": {},
     "output_type": "execute_result"
    },
    {
     "data": {
      "text/plain": [
       "- : string = \"Alterazione\"\n"
      ]
     },
     "execution_count": 40,
     "metadata": {},
     "output_type": "execute_result"
    },
    {
     "data": {
      "text/plain": [
       "- : string = \"Alterazione\"\n"
      ]
     },
     "execution_count": 40,
     "metadata": {},
     "output_type": "execute_result"
    },
    {
     "data": {
      "text/plain": [
       "- : string = \"Healty\"\n"
      ]
     },
     "execution_count": 40,
     "metadata": {},
     "output_type": "execute_result"
    }
   ],
   "source": [
    "(* applicando parzialmente apply_tree ottengo una funzione che fa diagnosi a pazienti*)\n",
    "let diagnosi = apply_tree radice;; \n",
    "\n",
    "let paziente1 = {temp=38.5; battiti=100};;\n",
    "let paziente2 = {temp=38.5; battiti=70};;\n",
    "let paziente3 = {temp=37.3; battiti=100};;\n",
    "let paziente4 = {temp=37.3; battiti=70};;\n",
    "let paziente5 = {temp=36.8; battiti=100};;\n",
    "let paziente6 = {temp=36.8; battiti=70};;\n",
    "\n",
    "diagnosi paziente1;; (* malato *)\n",
    "diagnosi paziente2;; (* malato *)\n",
    "diagnosi paziente3;; (* malato *)\n",
    "diagnosi paziente4;; (* alterato *)\n",
    "diagnosi paziente5;; (* alterato *)\n",
    "diagnosi paziente6;; (* sano *)\n"
   ]
  }
 ],
 "metadata": {
  "kernelspec": {
   "display_name": "OCaml default",
   "language": "OCaml",
   "name": "ocaml-jupyter"
  },
  "language_info": {
   "codemirror_mode": "text/x-ocaml",
   "file_extension": ".ml",
   "mimetype": "text/x-ocaml",
   "name": "OCaml",
   "nbconverter_exporter": null,
   "pygments_lexer": "OCaml",
   "version": "4.08.1"
  }
 },
 "nbformat": 4,
 "nbformat_minor": 5
}
