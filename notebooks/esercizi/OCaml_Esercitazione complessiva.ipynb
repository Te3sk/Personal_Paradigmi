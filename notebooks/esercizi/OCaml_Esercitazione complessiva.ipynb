{
 "cells": [
  {
   "cell_type": "markdown",
   "id": "e03e09f6",
   "metadata": {},
   "source": [
    "# Esercitazione complessiva su OCaml"
   ]
  },
  {
   "cell_type": "markdown",
   "id": "8bdc6bf5",
   "metadata": {},
   "source": [
    "## Introduzione al formato grafico SVG\n",
    "\n",
    "SVG è un formato di grafica vettoriale basato su XML. Una immagine in formato SVG è un file di testo che contiene informazioni sulle figure che devono essere rappresentate. In questo esempio, una immagine di dimensione 600x400 che contiene un rettangolo e un cerchio:\n",
    "\n",
    "```\n",
    "<svg width=\"600\" height=\"400\" xmlns=\"http://www.w3.org/2000/svg\">\n",
    "  <rect x=\"10\" y=\"10\" width=\"100\" height=\"50\" style=\"stroke:red;fill:green\"/>\n",
    "  <circle cx=\"100\" cy=\"100\" r=\"50\" style=\"stroke:red;fill:green\"/>\n",
    "</svg>\n",
    "```\n",
    "\n",
    "Salvando il testo riportato qui sopra in un file con estensione `.svg` sarà possibile visualizzare l'immagine tramite un browser o un programma di grafica. Maggiori dettagli su questo formato grafico possono essere facilmente trovate in rete."
   ]
  },
  {
   "cell_type": "markdown",
   "id": "1c7f55c5",
   "metadata": {
    "cell_style": "center"
   },
   "source": [
    "## Scopo di questa esercitazione\n",
    "\n",
    "In questa esercitazione useremo OCaml per generare alcune semplici immagini in formato SVG. "
   ]
  },
  {
   "cell_type": "markdown",
   "id": "c5f282dd",
   "metadata": {},
   "source": [
    "## Tipi di dato\n",
    "\n",
    "Innanzitutto abbiamo bisogno di definire un po' di tipi che ci consentano di trattare (parti di) file svg come dati processabili dalle funzioni che andremo a definire.\n",
    "\n",
    "Iniziamo definendo un tipo di dato `colors` che descriva possibili colori da usare nell'attributo \"style\" dei tag `<rect>` e `<circle>`."
   ]
  },
  {
   "cell_type": "code",
   "execution_count": 3,
   "id": "bc5e4a27",
   "metadata": {},
   "outputs": [
    {
     "data": {
      "text/plain": [
       "type colors = White | Black | Red | Blue | Green\n"
      ]
     },
     "execution_count": 3,
     "metadata": {},
     "output_type": "execute_result"
    }
   ],
   "source": [
    "type colors = White | Black | Red | Blue | Green ;;"
   ]
  },
  {
   "cell_type": "markdown",
   "id": "188eddaa",
   "metadata": {},
   "source": [
    "**Esercizio 1.** Definiamo una funzione `string_of_colors` che converte valori di tipo `colors` in stringhe contenenti il nome del colore in inglese (scritto tutto in minuscolo)."
   ]
  },
  {
   "cell_type": "code",
   "execution_count": 4,
   "id": "5d32a173",
   "metadata": {},
   "outputs": [
    {
     "data": {
      "text/plain": [
       "val string_of_colors : colors -> string = <fun>\n"
      ]
     },
     "execution_count": 4,
     "metadata": {},
     "output_type": "execute_result"
    },
    {
     "data": {
      "text/plain": [
       "- : string = \"white\"\n"
      ]
     },
     "execution_count": 4,
     "metadata": {},
     "output_type": "execute_result"
    }
   ],
   "source": [
    "let string_of_colors color =\n",
    "    match color with\n",
    "        | White -> \"white\"\n",
    "        | Black -> \"black\"\n",
    "        | Red -> \"red\"\n",
    "        | Blue -> \"blue\"\n",
    "        | Green -> \"green\";;\n",
    "    \n",
    "string_of_colors White;;"
   ]
  },
  {
   "cell_type": "markdown",
   "id": "6cff69c8",
   "metadata": {},
   "source": [
    "**Esercizio 2.** Definiamo un tipo record `style` per descrivere il contenuto dell'attributo `style` dei tag `<rect>` e `<circle>`. Questo tipo record deve avere due campi, `stroke` e `fill` entrambi di tipo `colors` ma con la possibilità di essere indefinito (tramite un *tipo opzione*)."
   ]
  },
  {
   "cell_type": "code",
   "execution_count": 7,
   "id": "3a5ab1e6",
   "metadata": {},
   "outputs": [
    {
     "data": {
      "text/plain": [
       "type style = { stroke : colors option; fill : colors option; }\n"
      ]
     },
     "execution_count": 7,
     "metadata": {},
     "output_type": "execute_result"
    }
   ],
   "source": [
    "type style = {\n",
    "    stroke : colors option;\n",
    "    fill : colors option;\n",
    "};;"
   ]
  },
  {
   "cell_type": "markdown",
   "id": "3624d366",
   "metadata": {},
   "source": [
    "**Esercizio 3.** Definiamo un tipo `figure` che descrive possibili figure da inserire all'interno dell'immagine svg. Questo tipo è l'unione di due tipi che descrivono rispettivamente i tag `<rect>` e `<circle>`. I tipi da unire dovranno essere record i cui campi corrispondono agli attributi dei tag `<rect>` e `<circle>`, rispettivamente. Usare `Rect` e `Circle` come costruttori. "
   ]
  },
  {
   "cell_type": "code",
   "execution_count": 9,
   "id": "321b28dc",
   "metadata": {},
   "outputs": [
    {
     "data": {
      "text/plain": [
       "type figure =\n",
       "    Rect of { x : int; y : int; width : int; height : int; style : style; }\n",
       "  | Circle of { cx : int; cy : int; r : int; style : style; }\n"
      ]
     },
     "execution_count": 9,
     "metadata": {},
     "output_type": "execute_result"
    }
   ],
   "source": [
    "type figure =\n",
    "    |Rect of {x: int; y: int; width: int; height: int; style : style}\n",
    "    |Circle of {cx: int; cy: int; r: int; style: style};;"
   ]
  },
  {
   "cell_type": "markdown",
   "id": "caef3047",
   "metadata": {},
   "source": [
    "Definiamo ora un tipo `svg_img` che descrive un'intera immagine svg. Anche questo sarà un tipo record questa volta corrispondente al tag `<svg>`, e dovrà avere due campi per memorizzare larghezza e altezza dell'immagine, e un campo per memorizzare una lista di figure di tipo `figure` che corrispondono ai rettangoli e ai cerchi contenuti nell'immagine."
   ]
  },
  {
   "cell_type": "code",
   "execution_count": 10,
   "id": "0fd9432b",
   "metadata": {},
   "outputs": [
    {
     "data": {
      "text/plain": [
       "type svg_img = { width : int; height : int; figures : figure list; }\n"
      ]
     },
     "execution_count": 10,
     "metadata": {},
     "output_type": "execute_result"
    }
   ],
   "source": [
    "type svg_img = {width: int; height: int; figures: figure list} ;;"
   ]
  },
  {
   "cell_type": "markdown",
   "id": "e1b4f33e",
   "metadata": {},
   "source": [
    "## Funzioni per la creazione di immagini\n",
    "\n",
    "Definiamo una funzione `init_svg_img` che prende come parametri una larghezza e un'altezza e restituisce un elemento di tipo `svg_img` con quelle dimensioni e lista di figure vuota."
   ]
  },
  {
   "cell_type": "code",
   "execution_count": 17,
   "id": "5b2ebf51",
   "metadata": {},
   "outputs": [
    {
     "data": {
      "text/plain": [
       "val init_svg_img : int -> int -> svg_img = <fun>\n"
      ]
     },
     "execution_count": 17,
     "metadata": {},
     "output_type": "execute_result"
    }
   ],
   "source": [
    "let init_svg_img w h = { width=w; height=h; figures=[] } ;;"
   ]
  },
  {
   "cell_type": "markdown",
   "id": "1b6e4088",
   "metadata": {},
   "source": [
    "**Esercizio 4.** Definiamo una funzione `add_fig` che prende una immagine di tipo `svg_img`, una figura di tipo `figure` e restituisce una nuova immaigine uguale alla precedente ma con la nuova figura aggiunta in testa alla lista di figure dell'immagine di partenza."
   ]
  },
  {
   "cell_type": "code",
   "execution_count": 24,
   "id": "4145cfbd",
   "metadata": {},
   "outputs": [
    {
     "data": {
      "text/plain": [
       "val add_fig : svg_img -> figure -> svg_img = <fun>\n"
      ]
     },
     "execution_count": 24,
     "metadata": {},
     "output_type": "execute_result"
    }
   ],
   "source": [
    "let add_fig svg fig = {svg with figures = fig::svg.figures};;"
   ]
  },
  {
   "cell_type": "markdown",
   "id": "a1722f36",
   "metadata": {},
   "source": [
    "\n",
    "**Esercizio 5.** Definiamo una funzione `add_figure_list` che prende una immagine e una lista di figure di tipo `figure` e restituisce una nuova immagine uguale alla precedente, ma con in più tutte le figure della lista. (nota: usare `add_fig` dell'esercizio precedente)."
   ]
  },
  {
   "cell_type": "code",
   "execution_count": 26,
   "id": "007b5933",
   "metadata": {},
   "outputs": [
    {
     "data": {
      "text/plain": [
       "val add_figure_list : svg_img -> figure list -> svg_img = <fun>\n"
      ]
     },
     "execution_count": 26,
     "metadata": {},
     "output_type": "execute_result"
    }
   ],
   "source": [
    "let rec add_figure_list img fig_list =\n",
    "    match fig_list with\n",
    "        |[] -> img\n",
    "        |x::t -> add_figure_list (add_fig img x) t;;"
   ]
  },
  {
   "cell_type": "markdown",
   "id": "95b1a303",
   "metadata": {},
   "source": [
    "Cerchiamo ora di riprodurre il file svg presentato come esempio all'inizio. Partiamo da creare un'immagine vuota di dimensione 600x400:"
   ]
  },
  {
   "cell_type": "code",
   "execution_count": 27,
   "id": "0815f132",
   "metadata": {},
   "outputs": [
    {
     "data": {
      "text/plain": [
       "val img0 : svg_img = {width = 600; height = 400; figures = []}\n"
      ]
     },
     "execution_count": 27,
     "metadata": {},
     "output_type": "execute_result"
    }
   ],
   "source": [
    "let img0 = init_svg_img 600 400 ;;"
   ]
  },
  {
   "cell_type": "markdown",
   "id": "0a46fe5e",
   "metadata": {},
   "source": [
    "Creiamo il cerchio e il rettangolo come nell'esempio iniziale:"
   ]
  },
  {
   "cell_type": "code",
   "execution_count": 28,
   "id": "75f8de84",
   "metadata": {},
   "outputs": [
    {
     "data": {
      "text/plain": [
       "val circle1 : figure =\n",
       "  Circle\n",
       "   {cx = 100; cy = 100; r = 50;\n",
       "    style = {stroke = Some Red; fill = Some Green}}\n"
      ]
     },
     "execution_count": 28,
     "metadata": {},
     "output_type": "execute_result"
    },
    {
     "data": {
      "text/plain": [
       "val rect1 : figure =\n",
       "  Rect\n",
       "   {x = 10; y = 10; width = 100; height = 50;\n",
       "    style = {stroke = Some Red; fill = Some Green}}\n"
      ]
     },
     "execution_count": 28,
     "metadata": {},
     "output_type": "execute_result"
    }
   ],
   "source": [
    "let circle1 = Circle { cx= 100; cy= 100; r=50; style= {stroke= Some Red; fill= Some Green }} ;;\n",
    "let rect1 = Rect {x=10; y=10; width=100; height=50; style={stroke= Some Red; fill= Some Green } };;"
   ]
  },
  {
   "cell_type": "markdown",
   "id": "9fbdcdfc",
   "metadata": {},
   "source": [
    "Aggiungiamoli uno dopo l'altro all'immagine vuota `img0` tramite la funzione `add_fig`:"
   ]
  },
  {
   "cell_type": "code",
   "execution_count": 29,
   "id": "e772997e",
   "metadata": {},
   "outputs": [
    {
     "data": {
      "text/plain": [
       "val img1 : svg_img =\n",
       "  {width = 600; height = 400;\n",
       "   figures =\n",
       "    [Circle\n",
       "      {cx = 100; cy = 100; r = 50;\n",
       "       style = {stroke = Some Red; fill = Some Green}}]}\n"
      ]
     },
     "execution_count": 29,
     "metadata": {},
     "output_type": "execute_result"
    },
    {
     "data": {
      "text/plain": [
       "val img2 : svg_img =\n",
       "  {width = 600; height = 400;\n",
       "   figures =\n",
       "    [Rect\n",
       "      {x = 10; y = 10; width = 100; height = 50;\n",
       "       style = {stroke = Some Red; fill = Some Green}};\n",
       "     Circle\n",
       "      {cx = 100; cy = 100; r = 50;\n",
       "       style = {stroke = Some Red; fill = Some Green}}]}\n"
      ]
     },
     "execution_count": 29,
     "metadata": {},
     "output_type": "execute_result"
    }
   ],
   "source": [
    "let img1 = add_fig img0 circle1 ;;\n",
    "let img2 = add_fig img1 rect1 ;;"
   ]
  },
  {
   "cell_type": "markdown",
   "id": "5cd1b7d4",
   "metadata": {},
   "source": [
    "## Generazione del codice SVG\n",
    "\n",
    "**Esercizio 6.** La funzione `generate_svg_code` prende una immagine di tipo `svg_img` e restituisce una stringa con la rappresentazione testuale del codice svg. Purtoppo la definizione seguente non funziona correttamente. Comprendiamo il codice e correggiamo l'errore:"
   ]
  },
  {
   "cell_type": "code",
   "execution_count": null,
   "id": "8b5c42b2",
   "metadata": {},
   "outputs": [],
   "source": [
    "let generate_svg_code img = \n",
    "    let generate_head img =\n",
    "        \"<svg width=\\\"\" ^ (string_of_int img.width) ^ \"\\\" \" ^\n",
    "        \"height=\\\"\" ^ (string_of_int img.height) ^ \"\\\" \" ^ \n",
    "        \"xmlns=\\\"http://www.w3.org/2000/svg\\\">\\n\"\n",
    "    in\n",
    "    let rec generate_figures figs =\n",
    "        let generate_style s =\n",
    "            match (s.stroke,s.fill) with\n",
    "            | (None,None) -> \"\"\n",
    "            | (Some c1,None) -> \"stroke:\" ^ (string_of_colors c1)\n",
    "            | (None, Some c2) -> \"fill:\" ^ (string_of_colors c2)\n",
    "            | (Some c1,Some c2) -> \"stroke:\" ^ (string_of_colors c1) ^ \";\" ^ \"fill:\" ^ (string_of_colors c2)\n",
    "        in \n",
    "        match figs with\n",
    "        | [] -> \"\"\n",
    "        | (Circle c)::figs' -> \"  <circle cx=\\\"\" ^ (string_of_int c.cx) ^ \"\\\" \" ^\n",
    "                               \"cy=\\\"\" ^ (string_of_int c.cy) ^ \"\\\" \" ^\n",
    "                               \"r=\\\"\" ^ (string_of_int c.r) ^ \"\\\" \" ^\n",
    "                               \"style=\\\"\" ^ (generate_style  c.style) ^ \"\\\"\" ^\n",
    "                               \"/>\\n\"\n",
    "        | (Rect r)::figs' -> \"  <rect x=\\\"\" ^ (string_of_int r.x) ^ \"\\\" \" ^\n",
    "                               \"y=\\\"\" ^ (string_of_int r.y) ^ \"\\\" \" ^\n",
    "                               \"width=\\\"\" ^ (string_of_int r.width) ^ \"\\\" \" ^\n",
    "                               \"height=\\\"\" ^ (string_of_int r.height) ^ \"\\\" \" ^\n",
    "                               \"style=\\\"\" ^ (generate_style  r.style) ^ \"\\\"\" ^\n",
    "                               \"/>\\n\"\n",
    "    in\n",
    "    let generate_tail = \"</svg>\"\n",
    "    in\n",
    "        (generate_head img) ^ (generate_figures img.figures) ^ (generate_tail) ;;\n",
    "        \n",
    "        "
   ]
  },
  {
   "cell_type": "markdown",
   "id": "8f9eec13",
   "metadata": {},
   "source": [
    "Generiamo ora il codice dell'immagine `img2`. Il risultato dovrebbe corrispondere al codice svg di esempio mostrato all'inizio."
   ]
  },
  {
   "cell_type": "code",
   "execution_count": null,
   "id": "38946403",
   "metadata": {},
   "outputs": [],
   "source": [
    "print_endline (generate_svg_code img2) ;;"
   ]
  },
  {
   "cell_type": "markdown",
   "id": "f325d292",
   "metadata": {},
   "source": [
    "## Da liste di coppie a immagini\n",
    "\n",
    "**Esercizio 7.** Scrivere una funzione `pairs_to_circles` che prende una lista di coppie di interi e genera una lista di cerchi (di tipo `figure`) in cui ogni cerchi corrisponde a un elemento della lista di coppie, e i due interi di ogni coppia sono usati come coordinate del centro del cerchio corrispondente. Tutti i cerchi hanno raggio 50 e nello stile hanno `stroke` nero e `fill` rosso. (nota: questa funzione può essere esplicitamente ricorsiva oppure usare le funzioni higher-order su liste)"
   ]
  },
  {
   "cell_type": "code",
   "execution_count": null,
   "id": "3be53868",
   "metadata": {},
   "outputs": [],
   "source": [
    "let pairs_to_circles list =\n",
    "    let rec internal_function li lf=\n",
    "        match list with\n",
    "            |[] -> lf\n",
    "            |x::t -> "
   ]
  },
  {
   "cell_type": "markdown",
   "id": "fe5edbff",
   "metadata": {},
   "source": [
    "Usiamo la funzione per creare un po' di cerchi:"
   ]
  },
  {
   "cell_type": "code",
   "execution_count": null,
   "id": "d74068ce",
   "metadata": {},
   "outputs": [],
   "source": [
    "let circles = pairs_to_circles [(200,200); (100,100); (300,100); (250,150)] ;;"
   ]
  },
  {
   "cell_type": "markdown",
   "id": "216909c6",
   "metadata": {},
   "source": [
    "Creiamo una immagine con tutti i cerchi appena creati (aggiungendoli all'immagine vuota `img0`):"
   ]
  },
  {
   "cell_type": "code",
   "execution_count": null,
   "id": "af5706a4",
   "metadata": {},
   "outputs": [],
   "source": [
    "let img = add_figure_list img0 circles;;"
   ]
  },
  {
   "cell_type": "markdown",
   "id": "baaf1f70",
   "metadata": {},
   "source": [
    "Generiamo il codice dell'immagine (nota: copiando il codice in un file separato salvato come svg lo possiamo visualizzare nel browser):"
   ]
  },
  {
   "cell_type": "code",
   "execution_count": null,
   "id": "662e5ba5",
   "metadata": {},
   "outputs": [],
   "source": [
    "print_endline (generate_svg_code img)"
   ]
  },
  {
   "cell_type": "markdown",
   "id": "f2312329",
   "metadata": {},
   "source": [
    "## Cerchiamo un cerchio\n",
    "\n",
    "Prossimo obiettivo è trovare un modo per identificare il cerchio più a sinistra in una immagine svg. Questo sostanzialmente corrisponde a trovare una sorta di minimo (il cerchio con la minima distanza dal lato sinistro dell'immagine). Raggiungeremo questo risultato definendo una funzione di ricerca molto generale...\n",
    "\n",
    "**Esercizio 8.** Definire la funzione `find` che prende come parametri una funzione `compare` e una lista `lis`. Assumiamo che la funzione `compare` ricevuta dalla `find` sia in grado di confrontare due elementi `x` e `y` restituendo `true` se `x` precede `y` secondo un certo ordinamento totale conosciuto dalla `compare`. La funzione `find` deve restituire l'elemento della lista `lis` che è minimo rispetto a tale ordinamento. Se la lista è vuota deve sollevare un'eccezione. (nota: vedere gli esempi d'uso sotto per farsi un'idea) "
   ]
  },
  {
   "cell_type": "code",
   "execution_count": null,
   "id": "f2819c3c",
   "metadata": {},
   "outputs": [],
   "source": []
  },
  {
   "cell_type": "code",
   "execution_count": null,
   "id": "1778e6c5",
   "metadata": {},
   "outputs": [],
   "source": [
    "find (<) [3;4;2;6;1;2] ;; (* deve restituire 1 *)"
   ]
  },
  {
   "cell_type": "code",
   "execution_count": null,
   "id": "e3b97025",
   "metadata": {},
   "outputs": [],
   "source": [
    "find (>) [3;4;2;6;1;2] ;; (* deve restituire 6 *)\n",
    "(* nota: 6 risulta essere \"minimo\" perchè è il \"più a sinistra\"\n",
    "nell'ordinamento ..>..>..>..>.. *)"
   ]
  },
  {
   "cell_type": "code",
   "execution_count": null,
   "id": "728d3250",
   "metadata": {},
   "outputs": [],
   "source": [
    "find (fun s1 s2 -> String.length s1 < String.length s2) [\"abc\";\"ee\";\"gdws\";\"bgs\"] ;;\n",
    "(* deve restituire \"ee\" *)"
   ]
  },
  {
   "cell_type": "code",
   "execution_count": null,
   "id": "f0982196",
   "metadata": {},
   "outputs": [],
   "source": [
    "let compare_cerchi fig1 fig2 =\n",
    "    match (fig1,fig2) with\n",
    "    | (Circle c1,Circle c2) -> c1.cx<c2.cx\n",
    "    | (_,_) -> failwith \"figure non cerchi\" ;;\n",
    "    \n",
    "let c = find compare_cerchi img.figures ;; \n",
    "(* deve restituire il cerchio più a sinistra *)"
   ]
  },
  {
   "cell_type": "markdown",
   "id": "a5f35c7b",
   "metadata": {},
   "source": [
    "## Un linguaggio per bandiere\n",
    "\n",
    "Consideriamo la seguente grammatica che descrive alberi con foglie colorate (color trees):\n",
    "\n",
    "```\n",
    "ctree ::= ctree + ctree | color\n",
    "color ::= white | black | red | blue | green\n",
    "```\n",
    "\n",
    "**Esercizio 9.** Definire il tipo `color_tree` che rappresenta l'albero di sintassi astratta di `ctree` usando costruttori `Node` e `Leaf`, e il tipo `colors` già visto per i colori."
   ]
  },
  {
   "cell_type": "code",
   "execution_count": null,
   "id": "0282e50a",
   "metadata": {},
   "outputs": [],
   "source": []
  },
  {
   "cell_type": "markdown",
   "id": "2458871b",
   "metadata": {},
   "source": [
    "Esempio di valore di tipo `color_tree`:"
   ]
  },
  {
   "cell_type": "code",
   "execution_count": null,
   "id": "1b51eb4c",
   "metadata": {},
   "outputs": [],
   "source": [
    "let ct = Node (Leaf Red,(Node (Leaf Green,Leaf Blue))) ;;"
   ]
  },
  {
   "cell_type": "markdown",
   "id": "0024cbff",
   "metadata": {},
   "source": [
    "**Esercizio 10.** Definire una funzione ricorsiva `lista_bandiera` che prende un albero `color_tree`, un valore intero `x` e una larghezza `width` e costruisce una lista di tuple con un elemento per ogni foglia dell'albero. L'idea è che ogni elemento della lista rappresenta un rettangolo di una ipotetica bandiera a strisce verticali. `x` è la coordinata da cui inizia l'area in cui disegnare le strisce (nella prima chiamata della funzione solitamente è 0) e `width` è la larghezza di tale area. Scendendo in profondità nell'albero, la larghezza da dedicare ai rettangoli da disegnare si dimezza. Ossia: l'albero corrispondente a \"red + blue\" porterà ad una bandiera per metà rossa e metà blu, mentre quello di \"red + (green + blue)\" porterà ad una bandiera per metà rossa, un quarto verde e un quarto blu. Nella lista da generare, ogni tupla dirà, per ogni rettangolo colorato da generare, la sua coordinata `x` di partenza, la sua larghezza e il suo colore. Ad esempio, partendo da un `x` pari a 0 e una larghezza complessiva di 600, l'albero di \"red + (green + blue)\" dovrà portare alla lista `[(0, 300, Red); (300, 150, Green); (450, 150, Blue)]`."
   ]
  },
  {
   "cell_type": "code",
   "execution_count": null,
   "id": "d65e35db",
   "metadata": {},
   "outputs": [],
   "source": []
  },
  {
   "cell_type": "code",
   "execution_count": null,
   "id": "d494bb58",
   "metadata": {},
   "outputs": [],
   "source": [
    "let lis_b = lista_bandiera ct 0 600;;"
   ]
  },
  {
   "cell_type": "markdown",
   "id": "6d1f057f",
   "metadata": {},
   "source": [
    "**Esercizio 11.** Definire una funzione `pairs_to_rectangle` che, analogamente alla funzione `pairs_to_circles` definita in un esercizio precedente, genera una lista di rettangoli di tipo `figure` a partire da una lista di tuple come restituite dalla funzione `lista_bandiera`."
   ]
  },
  {
   "cell_type": "code",
   "execution_count": null,
   "id": "efa37610",
   "metadata": {},
   "outputs": [],
   "source": []
  },
  {
   "cell_type": "markdown",
   "id": "ca9c8073",
   "metadata": {},
   "source": [
    "Ora traduciamo la lista di tuple `lis_b` in rettangoli:"
   ]
  },
  {
   "cell_type": "code",
   "execution_count": null,
   "id": "e496fe83",
   "metadata": {},
   "outputs": [],
   "source": [
    "let rectangles  = pairs_to_rectangles lis_b 400;;"
   ]
  },
  {
   "cell_type": "markdown",
   "id": "6268a8ea",
   "metadata": {},
   "source": [
    "Creiamo una nuova immagine con dentro i rettangoli creati (usando come base l'immagine vuota `img0`):"
   ]
  },
  {
   "cell_type": "code",
   "execution_count": null,
   "id": "026bbcd1",
   "metadata": {},
   "outputs": [],
   "source": [
    "let img = add_figure_list img0 rectangles ;;"
   ]
  },
  {
   "cell_type": "markdown",
   "id": "7bb2aa4d",
   "metadata": {},
   "source": [
    "Generiamo il codice svg dell'immagine ottenuta (ma prima per ottenere un risultato corretto dobbiamo aver svolto l'esercizio 6):"
   ]
  },
  {
   "cell_type": "code",
   "execution_count": null,
   "id": "2597eaf1",
   "metadata": {},
   "outputs": [],
   "source": [
    "print_endline (generate_svg_code img);;"
   ]
  }
 ],
 "metadata": {
  "kernelspec": {
   "display_name": "OCaml default",
   "language": "OCaml",
   "name": "ocaml-jupyter"
  },
  "language_info": {
   "codemirror_mode": "text/x-ocaml",
   "file_extension": ".ml",
   "mimetype": "text/x-ocaml",
   "name": "OCaml",
   "nbconverter_exporter": null,
   "pygments_lexer": "OCaml",
   "version": "4.08.1"
  }
 },
 "nbformat": 4,
 "nbformat_minor": 5
}
