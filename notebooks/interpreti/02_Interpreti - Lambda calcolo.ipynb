{
 "cells": [
  {
   "cell_type": "markdown",
   "id": "e9240ba0",
   "metadata": {
    "slideshow": {
     "slide_type": "slide"
    }
   },
   "source": [
    "# Un interprete del $\\lambda$-calcolo"
   ]
  },
  {
   "cell_type": "markdown",
   "id": "7375f15e",
   "metadata": {
    "slideshow": {
     "slide_type": "slide"
    }
   },
   "source": [
    "## La sintassi del $\\lambda$-calcolo\n",
    "\n",
    "$$\n",
    "e ::= x \\mid \\lambda x.e \\mid e \\, e\n",
    "$$\n",
    "\n",
    "Definiamo il tipo degli identificatori e dell'AST delle espressioni:"
   ]
  },
  {
   "cell_type": "code",
   "execution_count": 1,
   "id": "2a957686",
   "metadata": {},
   "outputs": [
    {
     "data": {
      "text/plain": [
       "type id = string\n"
      ]
     },
     "execution_count": 1,
     "metadata": {},
     "output_type": "execute_result"
    },
    {
     "data": {
      "text/plain": [
       "type exp = Var of id | Lam of id * exp | App of exp * exp\n"
      ]
     },
     "execution_count": 1,
     "metadata": {},
     "output_type": "execute_result"
    }
   ],
   "source": [
    "type id = string\n",
    "\n",
    "type exp =\n",
    "    Var of id\n",
    "  | Lam of id * exp\n",
    "  | App of exp * exp"
   ]
  },
  {
   "cell_type": "markdown",
   "id": "b18d50cd",
   "metadata": {
    "slideshow": {
     "slide_type": "slide"
    }
   },
   "source": [
    "## La semantica del $\\lambda$-calcolo\n",
    "\n",
    "$$\n",
    "(\\lambda x . e_1) e_2 \\rightarrow e_1 \\{ x := e_2 \\}\n",
    "$$\n",
    "\n",
    "$$\n",
    "\\frac{e_1 \\rightarrow e_1'}{e_1 \\, e_2 \\rightarrow e_1' \\, e_2}\n",
    "\\qquad \n",
    "\\frac{e_2 \\rightarrow e_2'}{e_1 \\, e_2 \\rightarrow e_1 \\, e_2'}\n",
    "$$\n",
    "\n",
    "$$\n",
    "\\frac{e \\rightarrow e'}{\\lambda x . e \\rightarrow \\lambda x . e'}\n",
    "$$"
   ]
  },
  {
   "cell_type": "markdown",
   "id": "31451cfc",
   "metadata": {
    "slideshow": {
     "slide_type": "slide"
    }
   },
   "source": [
    "## Implementazione della capture-avoiding substitution \n",
    "\n",
    "Richiamo della definizione:\n",
    "\n",
    "$$\n",
    "\\begin{array}{rcl}\n",
    "x \\{ x:= e \\} & \\equiv & e\\\\\n",
    "y \\{ x:= e \\} & \\equiv & y \\mbox{ se } y \\neq x\\\\\n",
    "(e_1 e_2) \\{ x:= e \\} & \\equiv & ( e_1 \\{ x:= e \\} ) ( e_2 \\{ x:= e \\} )\\\\\n",
    "(\\lambda y . e_1) \\{ x:= e \\} & \\equiv & \\lambda y . (e_1 \\{ x:= e \\}) \\\\\n",
    "& & \\mbox{ se } y \\neq x \\mbox{ e } y \\not\\in FV(e)\\\\\n",
    "(\\lambda y . e_1) \\{ x:= e \\} & \\equiv & \\lambda z . ((e_1 \\{ y:= z \\}) \\{ x:= e \\})\\\\\n",
    "& & \\mbox{ se } y \\neq x \\mbox{ e } y \\in FV(e) \\mbox{ e } z \\mbox{ fresca}\n",
    "\\end{array}\n",
    "$$\n",
    "\n"
   ]
  },
  {
   "cell_type": "markdown",
   "id": "64b097c9",
   "metadata": {
    "slideshow": {
     "slide_type": "slide"
    }
   },
   "source": [
    "## Implementazione di FV(e)\n",
    "\n",
    "$$\n",
    "\\small\n",
    "FV(x) = x \\qquad FV(\\lambda x.e) = FV(e) \\setminus \\{x\\}\n",
    "$$\n",
    "\n",
    "$$\n",
    "\\small\n",
    "FV(e_1\\,e_2) = FV(e_1)\\cup FV(e_2)\n",
    "$$\n",
    "\n",
    "Funzione che calcola ricorsivamente l'insieme delle *variabili libere* dell'espressione $e$ rappresentato come lista di identificatori:"
   ]
  },
  {
   "cell_type": "code",
   "execution_count": 2,
   "id": "ea5ed18b",
   "metadata": {},
   "outputs": [
    {
     "data": {
      "text/plain": [
       "val fvs : exp -> id list = <fun>\n"
      ]
     },
     "execution_count": 2,
     "metadata": {},
     "output_type": "execute_result"
    }
   ],
   "source": [
    "(* computes the free (non-bound) variables in e *)\n",
    "let rec fvs e =\n",
    "  match e with\n",
    "      Var x -> [x]\n",
    "    | Lam (x,e) -> List.filter (fun y -> x <> y) (fvs e)\n",
    "    | App (e1,e2) -> (fvs e1) @ (fvs e2)\n",
    ";;"
   ]
  },
  {
   "cell_type": "markdown",
   "id": "9f8e40e0",
   "metadata": {
    "slideshow": {
     "slide_type": "slide"
    }
   },
   "source": [
    "Esempi d'uso:"
   ]
  },
  {
   "cell_type": "code",
   "execution_count": 3,
   "id": "a37f2b29",
   "metadata": {
    "slideshow": {
     "slide_type": "-"
    }
   },
   "outputs": [
    {
     "data": {
      "text/plain": [
       "- : bool = true\n"
      ]
     },
     "execution_count": 3,
     "metadata": {},
     "output_type": "execute_result"
    },
    {
     "data": {
      "text/plain": [
       "- : bool = true\n"
      ]
     },
     "execution_count": 3,
     "metadata": {},
     "output_type": "execute_result"
    },
    {
     "data": {
      "text/plain": [
       "- : bool = true\n"
      ]
     },
     "execution_count": 3,
     "metadata": {},
     "output_type": "execute_result"
    },
    {
     "data": {
      "text/plain": [
       "- : bool = true\n"
      ]
     },
     "execution_count": 3,
     "metadata": {},
     "output_type": "execute_result"
    }
   ],
   "source": [
    "(* TESTS *)\n",
    "fvs (Var \"x\") = [\"x\"];;\n",
    "fvs (Lam (\"x\",Var \"y\")) = [\"y\"];;\n",
    "fvs (Lam (\"x\",Var \"x\")) = [];;\n",
    "fvs (App (Lam (\"x\", Var \"z\"), Var \"y\")) = [\"z\"; \"y\"];;"
   ]
  },
  {
   "cell_type": "markdown",
   "id": "39603770",
   "metadata": {
    "slideshow": {
     "slide_type": "slide"
    }
   },
   "source": [
    "## Generatore di identificatori \"freschi\"\n",
    "\n",
    "La capture avoiding substitution richiede in alcuni casi di generare identificatori *freschi* (nuovi, non presenti nell'espressione)"
   ]
  },
  {
   "cell_type": "code",
   "execution_count": 4,
   "id": "50872ed5",
   "metadata": {
    "slideshow": {
     "slide_type": "-"
    }
   },
   "outputs": [
    {
     "data": {
      "text/plain": [
       "val newvar : unit -> string = <fun>\n"
      ]
     },
     "execution_count": 4,
     "metadata": {},
     "output_type": "execute_result"
    }
   ],
   "source": [
    "(* generates a fresh variable   *)\n",
    "let newvar =\n",
    "  let x = ref 0 in\n",
    "  fun () -> \n",
    "    let c = !x in\n",
    "    incr x;\n",
    "    \"v\"^(string_of_int c)"
   ]
  },
  {
   "cell_type": "markdown",
   "id": "b3f67fb8",
   "metadata": {},
   "source": [
    "`newvar` è una funzione senza parametri con una *variabile modificabile* `x` nella sua *chiusura*!"
   ]
  },
  {
   "cell_type": "markdown",
   "id": "19b5495a",
   "metadata": {
    "slideshow": {
     "slide_type": "slide"
    }
   },
   "source": [
    "Esempi d'uso:"
   ]
  },
  {
   "cell_type": "code",
   "execution_count": 5,
   "id": "996ad058",
   "metadata": {},
   "outputs": [
    {
     "data": {
      "text/plain": [
       "- : string = \"v0\"\n"
      ]
     },
     "execution_count": 5,
     "metadata": {},
     "output_type": "execute_result"
    },
    {
     "data": {
      "text/plain": [
       "- : string = \"v1\"\n"
      ]
     },
     "execution_count": 5,
     "metadata": {},
     "output_type": "execute_result"
    }
   ],
   "source": [
    "(* TESTS *)\n",
    "newvar ();;\n",
    "newvar ();;"
   ]
  },
  {
   "cell_type": "markdown",
   "id": "e64f72dd",
   "metadata": {
    "slideshow": {
     "slide_type": "slide"
    }
   },
   "source": [
    "Ora siamo pronti per implementare la capture-avoiding substitution:"
   ]
  },
  {
   "cell_type": "code",
   "execution_count": 6,
   "id": "c0aded60",
   "metadata": {},
   "outputs": [
    {
     "data": {
      "text/plain": [
       "val subst : exp -> id -> exp -> exp = <fun>\n"
      ]
     },
     "execution_count": 6,
     "metadata": {},
     "output_type": "execute_result"
    }
   ],
   "source": [
    "(* substitution: subst e y m means \n",
    "  \"substitute occurrences of variable y with m in the expression e\" *)\n",
    "let rec subst e y m =\n",
    "  match e with\n",
    "      Var x -> \n",
    "    if y = x then m (* replace x with m *)\n",
    "    else e (* variables don't match: leave x unchanged *)\n",
    "    | App (e1,e2) -> App (subst e1 y m, subst e2 y m)\n",
    "    | Lam (x,e) ->\n",
    "      if y = x then (* don't substitute under the variable binder *)\n",
    "        Lam(x,e)\n",
    "      else if not (List.mem x (fvs m)) then (* no need to alpha convert *)\n",
    "        Lam (x, subst e y m)\n",
    "      else (* need to alpha convert *)\n",
    "        let z = newvar() in (* assumed to be \"fresh\" *)\n",
    "        let e' = subst e x (Var z) in (* replace x with z in e *)\n",
    "        Lam (z,subst e' y m) (* substitute for y in the adjusted term, e' *)"
   ]
  },
  {
   "cell_type": "code",
   "execution_count": 7,
   "id": "9af36206",
   "metadata": {
    "slideshow": {
     "slide_type": "slide"
    }
   },
   "outputs": [
    {
     "data": {
      "text/plain": [
       "val m1 : exp = App (Var \"x\", Var \"y\")\n"
      ]
     },
     "execution_count": 7,
     "metadata": {},
     "output_type": "execute_result"
    },
    {
     "data": {
      "text/plain": [
       "val m2 : exp = App (Lam (\"z\", Var \"z\"), Var \"w\")\n"
      ]
     },
     "execution_count": 7,
     "metadata": {},
     "output_type": "execute_result"
    },
    {
     "data": {
      "text/plain": [
       "val m3 : exp = App (Lam (\"z\", Var \"x\"), Var \"w\")\n"
      ]
     },
     "execution_count": 7,
     "metadata": {},
     "output_type": "execute_result"
    },
    {
     "data": {
      "text/plain": [
       "val m4 : exp = App (App (Lam (\"z\", Var \"z\"), Lam (\"x\", Var \"x\")), Var \"w\")\n"
      ]
     },
     "execution_count": 7,
     "metadata": {},
     "output_type": "execute_result"
    },
    {
     "data": {
      "text/plain": [
       "val m1_zforx : exp = App (Var \"z\", Var \"y\")\n"
      ]
     },
     "execution_count": 7,
     "metadata": {},
     "output_type": "execute_result"
    },
    {
     "data": {
      "text/plain": [
       "val m1_m2fory : exp = App (Var \"x\", App (Lam (\"z\", Var \"z\"), Var \"w\"))\n"
      ]
     },
     "execution_count": 7,
     "metadata": {},
     "output_type": "execute_result"
    },
    {
     "data": {
      "text/plain": [
       "val m2_ughforz : exp = App (Lam (\"z\", Var \"z\"), Var \"w\")\n"
      ]
     },
     "execution_count": 7,
     "metadata": {},
     "output_type": "execute_result"
    },
    {
     "data": {
      "text/plain": [
       "val m3_zforx : exp = App (Lam (\"v2\", Var \"z\"), Var \"w\")\n"
      ]
     },
     "execution_count": 7,
     "metadata": {},
     "output_type": "execute_result"
    },
    {
     "data": {
      "text/plain": [
       "val m1_m3fory : exp = App (Var \"x\", App (Lam (\"z\", Var \"x\"), Var \"w\"))\n"
      ]
     },
     "execution_count": 7,
     "metadata": {},
     "output_type": "execute_result"
    }
   ],
   "source": [
    "(* TESTS *)\n",
    "let m1 =  (App (Var \"x\", Var \"y\"));;  (* x y *)\n",
    "let m2 = (App (Lam (\"z\",Var \"z\"), Var \"w\"));; (* (lambda z . z) w *)\n",
    "let m3 = (App (Lam (\"z\",Var \"x\"), Var \"w\"));; (* (lambda z . x) w *)\n",
    "let m4 = (App (App (Lam (\"z\",Var \"z\"), Lam (\"x\", Var \"x\")), Var \"w\"))\n",
    "            (* (lambda z . z) (lambda x . x) w *)\n",
    "            \n",
    "let m1_zforx = subst m1 \"x\" (Var \"z\");;\n",
    "let m1_m2fory = subst m1 \"y\" m2\n",
    "let m2_ughforz = subst m2 \"z\" (Var \"ugh\")\n",
    "let m3_zforx = subst m3 \"x\" (Var \"z\")\n",
    "let m1_m3fory = subst m1 \"y\" m3"
   ]
  },
  {
   "cell_type": "markdown",
   "id": "4f816f37",
   "metadata": {
    "slideshow": {
     "slide_type": "slide"
    }
   },
   "source": [
    "## Implementazione della semantica\n",
    "\n",
    "$$\n",
    "\\small\n",
    "(\\lambda x . e_1) e_2 \\rightarrow e_1 \\{ x := e_2 \\}\n",
    "$$\n",
    "\n",
    "\n",
    "$$\n",
    "\\small\n",
    "\\frac{e_1 \\rightarrow e_1'}{e_1 \\, e_2 \\rightarrow e_1' \\, e_2}\n",
    "\\quad \n",
    "\\frac{e_2 \\rightarrow e_2'}{e_1 \\, e_2 \\rightarrow e_1 \\, e_2'}\n",
    "\\quad\n",
    "\\frac{e \\rightarrow e'}{\\lambda x . e \\rightarrow \\lambda x . e'}\n",
    "$$"
   ]
  },
  {
   "cell_type": "code",
   "execution_count": 8,
   "id": "cf0979ec",
   "metadata": {},
   "outputs": [
    {
     "data": {
      "text/plain": [
       "val reduce : exp -> exp = <fun>\n"
      ]
     },
     "execution_count": 8,
     "metadata": {},
     "output_type": "execute_result"
    }
   ],
   "source": [
    "(* beta reduction. *)\n",
    "let rec reduce e =\n",
    "  match e with\n",
    "      App (Lam (x,e1), e2) -> subst e1 x e2 (* direct beta rule *)\n",
    "    | App (e1,e2) -> \n",
    "          let e1' = reduce e1 in (* try to reduce a term in the lhs *)\n",
    "          if e1'<>e1 then App(e1',e2)\n",
    "          else App (e1,reduce e2) (* didn't work; try rhs *)\n",
    "    | Lam (x,e) -> Lam (x, reduce e) (* reduce under the lambda (!) *)\n",
    "    | _ -> e (* no opportunity to reduce *)"
   ]
  },
  {
   "cell_type": "code",
   "execution_count": 9,
   "id": "da03b8ef",
   "metadata": {
    "slideshow": {
     "slide_type": "slide"
    }
   },
   "outputs": [
    {
     "data": {
      "text/plain": [
       "val m2red : exp = Var \"w\"\n"
      ]
     },
     "execution_count": 9,
     "metadata": {},
     "output_type": "execute_result"
    },
    {
     "data": {
      "text/plain": [
       "val m3red : exp = Var \"x\"\n"
      ]
     },
     "execution_count": 9,
     "metadata": {},
     "output_type": "execute_result"
    },
    {
     "data": {
      "text/plain": [
       "val m4red1 : exp = App (Lam (\"x\", Var \"x\"), Var \"w\")\n"
      ]
     },
     "execution_count": 9,
     "metadata": {},
     "output_type": "execute_result"
    },
    {
     "data": {
      "text/plain": [
       "val m4red2 : exp = Var \"w\"\n"
      ]
     },
     "execution_count": 9,
     "metadata": {},
     "output_type": "execute_result"
    },
    {
     "data": {
      "text/plain": [
       "val m13sred : exp = App (Var \"x\", Var \"x\")\n"
      ]
     },
     "execution_count": 9,
     "metadata": {},
     "output_type": "execute_result"
    }
   ],
   "source": [
    "(* TESTS *)\n",
    "let m2red = reduce m2 ;; (* (lambda z . z) w *)\n",
    "let m3red = reduce m3 ;; (* (lambda z . x) w *)\n",
    "let m4red1 = reduce m4 ;; (* (lambda z . z) (lambda x . x) w *)\n",
    "let m4red2 = reduce m4red1 ;; (* vedi sopra *)\n",
    "let m13sred = reduce m1_m3fory ;; (* x ((lambda z . x) w) *)"
   ]
  },
  {
   "cell_type": "markdown",
   "id": "af094d37",
   "metadata": {
    "slideshow": {
     "slide_type": "slide"
    }
   },
   "source": [
    "*DOMANDA:* Ma la semantica che abbiamo implementato è effettivamente questa?\n",
    "\n",
    "$$\n",
    "(\\lambda x . e_1) e_2 \\rightarrow e_1 \\{ x := e_2 \\}\n",
    "$$\n",
    "\n",
    "\n",
    "$$\n",
    "\\frac{e_1 \\rightarrow e_1'}{e_1 \\, e_2 \\rightarrow e_1' \\, e_2}\n",
    "\\qquad \n",
    "\\frac{e_2 \\rightarrow e_2'}{e_1 \\, e_2 \\rightarrow e_1 \\, e_2'}\n",
    "$$\n",
    "\n",
    "$$\n",
    "\\frac{e \\rightarrow e'}{\\lambda x . e \\rightarrow \\lambda x . e'}\n",
    "$$"
   ]
  },
  {
   "cell_type": "markdown",
   "id": "99215d05",
   "metadata": {
    "slideshow": {
     "slide_type": "slide"
    }
   },
   "source": [
    "*Non esattamente...*\n",
    "\n",
    "* L'*ordine dei pattern* nel pattern matching *privilegia l'applicazione funzionale* alla riduzione di $e_1$ e di $e_2$\n",
    "\n",
    "```\n",
    "match e with\n",
    "      App (Lam (x,e1), e2) -> subst e1 x e2 (* direct beta rule *)\n",
    "    | App (e1,e2) -> ... \n",
    "```\n",
    "\n",
    "* Inoltre, questo modo di gestire l'applicazione funzionale dice che `e2` può essere ridotto *solo se `e1` non è riducibile*:\n",
    "\n",
    "```\n",
    "App (e1,e2) -> \n",
    "      let e1' = reduce e1 in (* try to reduce a term in the lhs *)\n",
    "      if e1'<>e1 then App(e1',e2)\n",
    "      else App (e1,reduce e2) (* didn't work; try rhs *)\n",
    "```\n",
    "\n"
   ]
  },
  {
   "cell_type": "markdown",
   "id": "9be812ec",
   "metadata": {
    "slideshow": {
     "slide_type": "slide"
    }
   },
   "source": [
    "Quindi la semantica che abbiamo implementato in realtà è questa:\n",
    "\n",
    "$$\n",
    "(\\lambda x . e_1) e_2 \\rightarrow e_1 \\{ x := e_2 \\}\n",
    "$$\n",
    "\n",
    "$$\n",
    "\\frac{e_1 \\neq_{\\alpha} \\lambda x . e_3 \\quad e_1 \\rightarrow e_1'}{e_1 \\, e_2 \\rightarrow e_1' \\, e_2}\n",
    "\\qquad \n",
    "\\frac{e_1 \\neq_{\\alpha} \\lambda x . e_3 \\quad e_1 \\not\\rightarrow \\quad e_2 \\rightarrow e_2'}{e_1 \\, e_2 \\rightarrow e_1 \\, e_2'}\n",
    "$$\n",
    "\n",
    "$$\n",
    "\\frac{e \\rightarrow e'}{\\lambda x . e \\rightarrow \\lambda x . e'}\n",
    "$$\n",
    "\n",
    "dove:\n",
    "\n",
    "* $=_{\\alpha}$ è l'$\\alpha$-equivalenza\n",
    "* $e_1 \\not\\rightarrow$ significa $\\not\\exists e_1' . e_1 \\rightarrow e_1'$. "
   ]
  },
  {
   "cell_type": "markdown",
   "id": "9baaf9d4",
   "metadata": {
    "slideshow": {
     "slide_type": "slide"
    }
   },
   "source": [
    "D'altra parte la definizione originale è *non deterministica*\n",
    "\n",
    "* la stessa espressione può fare due riduzioni diverse\n",
    "\n",
    "Esempio:\n",
    "\n",
    "$$\n",
    "((\\lambda x . x) \\, y)\\,((\\lambda x . x)\\, y) \\rightarrow y \\, ((\\lambda x . x) \\, y)\n",
    "$$\n",
    "$$\n",
    "((\\lambda x . x) \\, y)\\,((\\lambda x . x)\\, y) \\rightarrow ((\\lambda x . x) \\, y) \\, y\n",
    "$$\n",
    "\n",
    "Invece *l'interprete è un programma* e la sua esecuzione deve essere *deterministica*\n",
    "\n",
    "* si può dimostrare, sfruttando la proprietà di confluenza del $\\lambda$-calcolo (i.e., Church-Rosser) che nonostante le condizioni aggiunte non si perdono computazioni possibili"
   ]
  },
  {
   "cell_type": "markdown",
   "id": "4c5f3559",
   "metadata": {
    "slideshow": {
     "slide_type": "slide"
    }
   },
   "source": [
    "## PER ESERCIZIO...\n",
    "\n",
    "* Implementare la *chiusura transitiva* della semantica, che consente di eseguire intere computazioni invece che singoli passi. Che succede se le diamo in pasto l'espressione $\\Omega = (\\lambda x . x x)(\\lambda x . x x)$ ?\n",
    "* Implementare la semantica *call-by-value* del $\\lambda$-calcolo\n",
    "* Implementare la seguente *semantica big-step* del $\\lambda$-calcolo e verificare che succedere dandole in pasto l'espressione $\\Omega$:\n",
    "\n",
    "$$\n",
    "    \\frac{e \\rightarrow_{bs} e'}{\\lambda x.e \\rightarrow_{bs} \\lambda x.e'}\n",
    "\\qquad\n",
    "    x \\rightarrow_{bs} x\n",
    "$$\n",
    "\n",
    "$$\n",
    "    \\frac{e_1 \\rightarrow_{bs} \\lambda x.e_1' \\quad e_2 \\rightarrow_{bs} e_2' \\quad e_1'\\{x:=e_2'\\} \\rightarrow_{bs} e'}{e_1 \\, e_2 \\rightarrow_{bs} e'}\n",
    "$$\n",
    "\n"
   ]
  },
  {
   "cell_type": "markdown",
   "id": "fb4eff29",
   "metadata": {
    "slideshow": {
     "slide_type": "slide"
    }
   },
   "source": [
    "## Funzioni di utilità per la stampa delle $\\lambda$-espressioni"
   ]
  },
  {
   "cell_type": "code",
   "execution_count": 10,
   "id": "2535afc1",
   "metadata": {},
   "outputs": [
    {
     "data": {
      "text/plain": [
       "val ident : string -> unit = <fun>\n"
      ]
     },
     "execution_count": 10,
     "metadata": {},
     "output_type": "execute_result"
    },
    {
     "data": {
      "text/plain": [
       "val kwd : string -> unit = <fun>\n"
      ]
     },
     "execution_count": 10,
     "metadata": {},
     "output_type": "execute_result"
    },
    {
     "data": {
      "text/plain": [
       "val print_exp0 : exp -> unit = <fun>\n",
       "val print_app : exp -> unit = <fun>\n",
       "val print_other_applications : exp -> unit = <fun>\n",
       "val print_lambda : exp -> unit = <fun>\n"
      ]
     },
     "execution_count": 10,
     "metadata": {},
     "output_type": "execute_result"
    }
   ],
   "source": [
    "(* pretty printing *)\n",
    "open Format;;\n",
    "\n",
    "let ident = print_string;;\n",
    "let kwd = print_string;;\n",
    "\n",
    "let rec print_exp0 = function\n",
    "  | Var s ->  ident s\n",
    "  | lam -> open_hovbox 1; kwd \"(\"; print_lambda lam; kwd \")\"; close_box ()\n",
    "\n",
    "and print_app = function\n",
    "  | e -> open_hovbox 2; print_other_applications e; close_box ()\n",
    "\n",
    "and print_other_applications f =\n",
    "  match f with\n",
    "  | App (f, arg) -> print_app f; print_space (); print_exp0 arg\n",
    "  | f -> print_exp0 f\n",
    "\n",
    "and print_lambda = function\n",
    "  | Lam (s, lam) ->\n",
    "      open_hovbox 1;\n",
    "      kwd \"\\\\\"; ident s; kwd \".\"; print_space(); print_lambda lam;\n",
    "      close_box()\n",
    "  | e -> print_app e;;"
   ]
  },
  {
   "cell_type": "code",
   "execution_count": 11,
   "id": "3142a1b9",
   "metadata": {
    "slideshow": {
     "slide_type": "slide"
    }
   },
   "outputs": [
    {
     "name": "stdout",
     "output_type": "stream",
     "text": [
      "x y\n"
     ]
    },
    {
     "data": {
      "text/plain": [
       "- : unit = ()\n"
      ]
     },
     "execution_count": 11,
     "metadata": {},
     "output_type": "execute_result"
    },
    {
     "name": "stdout",
     "output_type": "stream",
     "text": [
      "(\\z. z) w\n"
     ]
    },
    {
     "data": {
      "text/plain": [
       "- : unit = ()\n"
      ]
     },
     "execution_count": 11,
     "metadata": {},
     "output_type": "execute_result"
    }
   ],
   "source": [
    "(* TESTS *)\n",
    "print_lambda m1; print_newline ();;\n",
    "print_lambda m2; print_newline ();;"
   ]
  }
 ],
 "metadata": {
  "celltoolbar": "Slideshow",
  "kernelspec": {
   "display_name": "OCaml default",
   "language": "OCaml",
   "name": "ocaml-jupyter"
  },
  "language_info": {
   "codemirror_mode": "text/x-ocaml",
   "file_extension": ".ml",
   "mimetype": "text/x-ocaml",
   "name": "OCaml",
   "nbconverter_exporter": null,
   "pygments_lexer": "OCaml",
   "version": "4.08.1"
  },
  "rise": {
   "enable_chalkboard": true,
   "scroll": true
  }
 },
 "nbformat": 4,
 "nbformat_minor": 5
}
