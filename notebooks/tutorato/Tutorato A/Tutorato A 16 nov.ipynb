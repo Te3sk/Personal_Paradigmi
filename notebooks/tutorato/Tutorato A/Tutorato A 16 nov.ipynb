{
 "cells": [
  {
   "cell_type": "markdown",
   "id": "524b2283",
   "metadata": {},
   "source": [
    "## Interprete per espressioni aritmetiche"
   ]
  },
  {
   "cell_type": "markdown",
   "id": "8bf65605",
   "metadata": {},
   "source": [
    "Si consideri la seguente sintassi delle espressioni aritmetiche, estesa con le variabili (`Ide`) e un costrutto sommatoria (`Sumall`)\n",
    "\n",
    "    Exp ::= N | Ide | Exp op Exp | sumall ( Ide ; n ; n ){Exp}\n",
    "    op  ::= + | - | * | / \n",
    "    N   ::= 0 | 1 | 2 | ...\n",
    "    Ide ::= x | y | z | ...\n",
    "\n",
    "La sua sintassi astratta è definita come:"
   ]
  },
  {
   "cell_type": "code",
   "execution_count": 7,
   "id": "39aea79a",
   "metadata": {},
   "outputs": [
    {
     "data": {
      "text/plain": [
       "type op = Add | Sub | Mul | Div\n"
      ]
     },
     "execution_count": 7,
     "metadata": {},
     "output_type": "execute_result"
    },
    {
     "data": {
      "text/plain": [
       "type exp =\n",
       "    Val of int\n",
       "  | Ide of string\n",
       "  | Op of op * exp * exp\n",
       "  | Sumall of string * int * int * exp\n"
      ]
     },
     "execution_count": 7,
     "metadata": {},
     "output_type": "execute_result"
    }
   ],
   "source": [
    "(*Sintassi astratta*)\n",
    "type op = Add | Sub | Mul | Div ;;\n",
    "type exp = \n",
    "    | Val of int\n",
    "    | Ide of string\n",
    "    | Op of op*exp*exp\n",
    "    | Sumall of string*int*int*exp;; "
   ]
  },
  {
   "cell_type": "markdown",
   "id": "a612caca",
   "metadata": {},
   "source": [
    "### Es 1:\n",
    "\n",
    "Nel linguaggio esteso come da esercizio precedente, si implementi una funzione `fv e` che prende una espressione `e` e restituisce **l'insieme delle sue variabili libere**, definito come segue.\n",
    "\n",
    "    fv(n) = {}\n",
    "    fv(Ide) = {Ide}\n",
    "    fv(E1 op E2) = fv(E1) U fv(E2)\n",
    "    fv(sumall (Ide; n; n;) Exp) = fv(Exp) \\ Ide\n",
    "\n",
    "Per rappresentare un insieme di variabili, possiamo usare una lista senza duplicati. Torvate qui sotto due funzioni già implementate per manipolare questi \"insiemi\", ovvero l'unione fra due insiemi e la rimozione di un elemento da un insieme."
   ]
  },
  {
   "cell_type": "code",
   "execution_count": 8,
   "id": "f26e9e75",
   "metadata": {},
   "outputs": [
    {
     "data": {
      "text/plain": [
       "val union : 'a list -> 'a list -> 'a list = <fun>\n"
      ]
     },
     "execution_count": 8,
     "metadata": {},
     "output_type": "execute_result"
    },
    {
     "data": {
      "text/plain": [
       "val remove : 'a list -> 'a -> 'a list = <fun>\n"
      ]
     },
     "execution_count": 8,
     "metadata": {},
     "output_type": "execute_result"
    }
   ],
   "source": [
    "let union l1 l2 =\n",
    "    let rec remove_dup l = match l with\n",
    "        | [] -> []\n",
    "        | x :: xs -> x :: remove_dup (List.filter (fun y -> y <> x) xs)\n",
    "    in remove_dup (l1 @ l2);;\n",
    "\n",
    "let remove l el = List.filter (fun y -> y <> el) l;;"
   ]
  },
  {
   "cell_type": "code",
   "execution_count": 16,
   "id": "cb4e7051",
   "metadata": {},
   "outputs": [
    {
     "data": {
      "text/plain": [
       "val fv : exp -> string list = <fun>\n"
      ]
     },
     "execution_count": 16,
     "metadata": {},
     "output_type": "execute_result"
    }
   ],
   "source": [
    "let rec fv e =\n",
    "    match e with\n",
    "        |Val n -> []\n",
    "        |Ide x -> [x]\n",
    "        |Op (op, exp1, exp2) -> union (fv exp1) (fv exp2)\n",
    "        |Sumall (string, n1, n2, exe) -> remove (fv(exe)) string;;"
   ]
  },
  {
   "cell_type": "markdown",
   "id": "31b72883",
   "metadata": {},
   "source": [
    "### Es 2:\n",
    "Si implementi una funzione `subst (e:exp) (x:ide) (v:exp)` dove `e` è un'espressione, `x` è un identificatore e `v` è un'espressione che deve descrivere un valore (`Val n`). La funzione calcola l'espressione $e\\{x:=v\\}$ in cui tutte le occorrenze \"libere\" di `x` in `e` sono sostituite con `v`. \n",
    "\n",
    "**ATTENZIONE:** Il costrutto `sumall (x;n1;n2) {e}` lega le occorrenza di `x` in `e`. La sostituzione deve operare solo sulle occorrenze libere della variabile. "
   ]
  },
  {
   "cell_type": "code",
   "execution_count": 18,
   "id": "995ba29c",
   "metadata": {},
   "outputs": [
    {
     "data": {
      "text/plain": [
       "val subst : exp -> 'a -> int -> exp = <fun>\n"
      ]
     },
     "execution_count": 18,
     "metadata": {},
     "output_type": "execute_result"
    }
   ],
   "source": [
    "let rec subst e x v =\n",
    "    match e with\n",
    "        |Val n -> Val n\n",
    "        |Ide x -> Val v\n",
    "        |Op (op, exp1, exp2) -> Op (op, (subst exp1 x v), (subst exp2 x v))\n",
    "        |Sumall (id, n1, n2, exp) -> Sumall (id, n1, n2, (subst exp x v));;"
   ]
  },
  {
   "cell_type": "markdown",
   "id": "a4b4b056",
   "metadata": {},
   "source": [
    "**TEST:** applicare la funzione `subst` in modo da calcolare $((x+y)+(\\mbox{sumall }x;1;10) \\, x) \\{x:=5\\}$ che deve restituire $((5+y)+(\\mbox{sumall }x;1;10)\\, x)$."
   ]
  },
  {
   "cell_type": "code",
   "execution_count": null,
   "id": "a24a17f6",
   "metadata": {},
   "outputs": [],
   "source": [
    "let e1 = Op (Add, (Op (Add, Ide \"x\", Ide \"y\")), (Sumall (\"x\",1,10,Ide \"x\"))) in\n",
    "subst e1 \"x\" (Val 5);;"
   ]
  },
  {
   "cell_type": "markdown",
   "id": "372e95df",
   "metadata": {},
   "source": [
    "### Es 3:\n",
    "\n",
    "Si modifichi il codice (riportato qui sotto) dell'interprete big step delle espressioni in modo tenere conto della semantica estesa con il costrutto `sumall`, definita come segue. Per l'operazione di sostituzione $e \\{x := v\\}$ utilizzare la funzione `subst` definita nell'esercizio precedente.\n",
    "\n",
    "$$\n",
    "n \\rightarrow_{bs} n\n",
    "\\qquad\n",
    "\\frac{E_1 \\rightarrow_{bs} n_1 \\quad E_2 \\rightarrow_{bs} n_2 \\quad n_1 \\mbox{op } n_2 = n}{E_1 \\, op \\, E_1 \\rightarrow_{bs} n}\n",
    "$$\n",
    "\n",
    "$$\n",
    "\\frac{e\\{x:=n\\} \\rightarrow_{bs} n'}\n",
    "{\\mbox{sumall } ( x ; n ; n ) \\, e \\rightarrow_{bs} n'}\n",
    "$$\n",
    "\n",
    "$$\n",
    "\\frac{n_1<n_2 \\quad e\\{x:=n_1\\} \\rightarrow_{bs} n' \\quad \\mbox{sumall } ( x ; n_1+1 ; n_2 ) \\, e \\rightarrow_{bs} n'' \\quad n = n' + n''}\n",
    "{\\mbox{sumall } ( x ; n_1 ; n_2 ) \\, e \\rightarrow_{bs} n}\n",
    "$$\n",
    "\n",
    "**NOTA1:** non sono previste regole per gli identificatori (sono gestiti dalla sostituzione).\n",
    "\n",
    "**NOTA2:** la semantica non prevede transizioni in caso di identificatori liberi (non legati da `sumall`) o indici numerici usati nel costrutto `sumall` non ben definiti"
   ]
  },
  {
   "cell_type": "code",
   "execution_count": null,
   "id": "b34ef2f2",
   "metadata": {},
   "outputs": [],
   "source": [
    "(* interprete big-step *)\n",
    "let rec eval e =\n",
    "    match e with\n",
    "    | Val n -> Val n\n",
    "    | Op (op,e1,e2) -> \n",
    "        (* chiamate ricorsive che calcolano le derivazioni per e1 ed e2 *)\n",
    "        (match (eval e1, eval e2) with\n",
    "        | (Val n1, Val n2) -> (match op with   (* calcola n1 op n2 *)\n",
    "                               | Add -> Val (n1+n2)\n",
    "                               | Sub -> Val (n1-n2)\n",
    "                               | Mul -> Val (n1*n2)\n",
    "                               | Div -> Val (n1/n2)\n",
    "                               )\n",
    "        (* caso (inutile) aggiunto solo per rendere esaustivo il pattern matching *)\n",
    "        | _ -> failwith \"Errore impossibile che si verifichi\" )\n",
    "    | ??? ;;"
   ]
  },
  {
   "cell_type": "markdown",
   "id": "c617fb04",
   "metadata": {},
   "source": [
    "**TEST:** calcolare il risultato delle seguenti espressioni:\n",
    "\n",
    "* sumall (x; 1; 10) x\n",
    "* 100 + sumall (x;1;10) (sumall (y;1;10) x*y)\n",
    "\n",
    "Risultati attesi: 55 e 3125"
   ]
  },
  {
   "cell_type": "code",
   "execution_count": null,
   "id": "64f268fc",
   "metadata": {
    "scrolled": true
   },
   "outputs": [],
   "source": [
    "let e2 = Sumall (\"x\",1,10,Ide \"x\");;\n",
    "let e3 = Op (Add, Val 100, \n",
    "                 (Sumall (\"x\",1,10,(Sumall (\"y\",1,10, Op ( Mul, Ide \"x\", Ide \"y\")))))) ;;\n",
    "                 \n",
    "eval e2;;\n",
    "eval e3;;"
   ]
  }
 ],
 "metadata": {
  "kernelspec": {
   "display_name": "OCaml default",
   "language": "OCaml",
   "name": "ocaml-jupyter"
  },
  "language_info": {
   "codemirror_mode": "text/x-ocaml",
   "file_extension": ".ml",
   "mimetype": "text/x-ocaml",
   "name": "OCaml",
   "nbconverter_exporter": null,
   "pygments_lexer": "OCaml",
   "version": "4.08.1"
  }
 },
 "nbformat": 4,
 "nbformat_minor": 5
}
