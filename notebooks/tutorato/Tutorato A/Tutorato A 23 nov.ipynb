{
 "cells": [
  {
   "cell_type": "markdown",
   "id": "524b2283",
   "metadata": {},
   "source": [
    "## Interprete per espressioni aritmetiche"
   ]
  },
  {
   "cell_type": "markdown",
   "id": "8bf65605",
   "metadata": {},
   "source": [
    "Si consideri la seguente sintassi delle espressioni aritmetiche, estesa con le variabili (`Ide`) e un costrutto sommatoria (`Sumall`)\n",
    "\n",
    "    Exp ::= N | Ide | Exp op Exp | sumall ( Ide ; n ; n ){Exp}\n",
    "    op  ::= + | - | * | / \n",
    "    N   ::= 0 | 1 | 2 | ...\n",
    "    Ide ::= x | y | z | ...\n",
    "\n",
    "La sua sintassi astratta è definita come:"
   ]
  },
  {
   "cell_type": "code",
   "execution_count": 1,
   "id": "39aea79a",
   "metadata": {},
   "outputs": [
    {
     "data": {
      "text/plain": [
       "type op = Add | Sub | Mul | Div\n"
      ]
     },
     "execution_count": 1,
     "metadata": {},
     "output_type": "execute_result"
    },
    {
     "data": {
      "text/plain": [
       "type exp =\n",
       "    Val of int\n",
       "  | Ide of string\n",
       "  | Op of op * exp * exp\n",
       "  | Sumall of string * int * int * exp\n"
      ]
     },
     "execution_count": 1,
     "metadata": {},
     "output_type": "execute_result"
    }
   ],
   "source": [
    "(*Sintassi astratta*)\n",
    "type op = Add | Sub | Mul | Div ;;\n",
    "type exp = \n",
    "    | Val of int\n",
    "    | Ide of string\n",
    "    | Op of op*exp*exp\n",
    "    | Sumall of string*int*int*exp;; "
   ]
  },
  {
   "cell_type": "markdown",
   "id": "31b72883",
   "metadata": {},
   "source": [
    "### Es 1:\n",
    "Si implementi una funzione `subst (e:exp) (x:ide) (v:exp)` dove `e` è un'espressione, `x` è un identificatore e `v` è un'espressione che deve descrivere un valore (`Val n`). La funzione calcola l'espressione $e\\{x:=v\\}$ in cui tutte le occorrenze \"libere\" di `x` in `e` sono sostituite con `v`. \n",
    "\n",
    "**ATTENZIONE:** Il costrutto `sumall (x;n1;n2) {e}` lega le occorrenza di `x` in `e`. La sostituzione deve operare solo sulle occorrenze libere della variabile. \n",
    "\n",
    "$$\n",
    "\\big(\\sum_{x=0}^{10} 5 + x \\big)\\{x := 20\\}\n",
    "$$"
   ]
  },
  {
   "cell_type": "code",
   "execution_count": 29,
   "id": "995ba29c",
   "metadata": {},
   "outputs": [
    {
     "data": {
      "text/plain": [
       "val subst : exp -> string -> exp -> exp = <fun>\n"
      ]
     },
     "execution_count": 29,
     "metadata": {},
     "output_type": "execute_result"
    }
   ],
   "source": [
    "let rec subst e x (v: exp) =\n",
    "    match e with\n",
    "        |Val (n) -> Val (n)\n",
    "        |Ide (y) -> \n",
    "            if y = x\n",
    "                then v\n",
    "                else Ide y\n",
    "        |Op (op, exp1, exp2) -> Op (op, (subst exp1 x v), (subst exp2 x v))\n",
    "        |Sumall (string, n1, n2, exp) -> \n",
    "            if string == x\n",
    "                then Sumall (string, n1, n2, exp)\n",
    "                else Sumall (string, n1, n2, (subst exp x v));;"
   ]
  },
  {
   "cell_type": "markdown",
   "id": "a4b4b056",
   "metadata": {},
   "source": [
    "**TEST:** applicare la funzione `subst` in modo da calcolare $((x+y)+(\\mbox{sumall }x;1;10) \\, x) \\{x:=5\\}$ che deve restituire $((5+y)+(\\mbox{sumall }x;1;10)\\, x)$."
   ]
  },
  {
   "cell_type": "code",
   "execution_count": 37,
   "id": "a24a17f6",
   "metadata": {},
   "outputs": [
    {
     "data": {
      "text/plain": [
       "- : exp =\n",
       "Op (Add, Op (Add, Val 5, Ide \"y\"),\n",
       " Sumall (\"x\", 1, 10, Op (Mul, Val 5, Val 8)))\n"
      ]
     },
     "execution_count": 37,
     "metadata": {},
     "output_type": "execute_result"
    },
    {
     "data": {
      "text/plain": [
       "- : exp =\n",
       "Op (Add, Op (Sub, Ide \"x\", Val 5),\n",
       " Sumall (\"x\", 1, 10, Op (Div, Val 5, Val 6)))\n"
      ]
     },
     "execution_count": 37,
     "metadata": {},
     "output_type": "execute_result"
    }
   ],
   "source": [
    "let e1 = Op (Add, (Op (Add, Ide \"x\", Ide \"y\")), (Sumall (\"x\",1,10,Op(Mul, Ide \"x\", Val 8)))) in\n",
    "subst e1 \"x\" (Val 5);;\n",
    "\n",
    "let e2 = Op (Add, (Op (Sub, Ide \"x\", Ide \"y\")), (Sumall (\"x\",1,10,Op (Div, Ide \"y\", Val 6)))) in subst e2 \"y\" (Val 5);;"
   ]
  },
  {
   "cell_type": "markdown",
   "id": "372e95df",
   "metadata": {},
   "source": [
    "### Es 2:\n",
    "\n",
    "Si modifichi il codice (riportato qui sotto) dell'interprete big step delle espressioni in modo tenere conto della semantica estesa con il costrutto `sumall`, definita come segue. Per l'operazione di sostituzione $e \\{x := v\\}$ utilizzare la funzione `subst` definita nell'esercizio precedente.\n",
    "\n",
    "$$\n",
    "n \\rightarrow_{bs} n\n",
    "\\qquad\n",
    "\\frac{E_1 \\rightarrow_{bs} n_1 \\quad E_2 \\rightarrow_{bs} n_2 \\quad n_1 \\mbox{op } n_2 = n}{E_1 \\, op \\, E_1 \\rightarrow_{bs} n}\n",
    "$$\n",
    "\n",
    "$$\n",
    "\\frac{e\\{x:=n\\} \\rightarrow_{bs} n'}\n",
    "{\\mbox{sumall } ( x ; n ; n ) \\, e \\rightarrow_{bs} n'}\n",
    "$$\n",
    "\n",
    "$$\n",
    "\\frac{n_1<n_2 \\quad e\\{x:=n_1\\} \\rightarrow_{bs} n' \\quad \\mbox{sumall } ( x ; n_1+1 ; n_2 ) \\, e \\rightarrow_{bs} n'' \\quad n = n' + n''}\n",
    "{\\mbox{sumall } ( x ; n_1 ; n_2 ) \\, e \\rightarrow_{bs} n}\n",
    "$$\n",
    "\n",
    "**NOTA1:** non sono previste regole per gli identificatori (sono gestiti dalla sostituzione).\n",
    "\n",
    "**NOTA2:** la semantica non prevede transizioni in caso di identificatori liberi (non legati da `sumall`) o indici numerici usati nel costrutto `sumall` non ben definiti"
   ]
  },
  {
   "cell_type": "code",
   "execution_count": 64,
   "id": "b34ef2f2",
   "metadata": {},
   "outputs": [
    {
     "data": {
      "text/plain": [
       "val eval : exp -> exp = <fun>\n"
      ]
     },
     "execution_count": 64,
     "metadata": {},
     "output_type": "execute_result"
    }
   ],
   "source": [
    "(* interprete big-step *)\n",
    "let rec eval e =\n",
    "    match e with\n",
    "    | Val n -> Val n\n",
    "    | Ide x -> failwith \"Errore impossibile che si verifichi\"\n",
    "    | Op (op,e1,e2) -> \n",
    "        (* chiamate ricorsive che calcolano le derivazioni per e1 ed e2 *)\n",
    "        (match (eval e1, eval e2) with\n",
    "        | (Val n1, Val n2) -> (match op with   (* calcola n1 op n2 *)\n",
    "                               | Add -> Val (n1+n2)\n",
    "                               | Sub -> Val (n1-n2)\n",
    "                               | Mul -> Val (n1*n2)\n",
    "                               | Div -> Val (n1/n2)\n",
    "                               )\n",
    "        (* caso (inutile) aggiunto solo per rendere esaustivo il pattern matching *)\n",
    "        | _ -> failwith \"Errore impossibile che si verifichi\" )\n",
    "    | Sumall (id, n1, n2, exp) ->\n",
    "        if n1 = n2 then eval(subst exp id (Val n1))\n",
    "        else if n1 > n2 then failwith \"Errore\"\n",
    "        else match (eval(subst exp id (Val n1)), eval(Sumall(id, n1+1, n2, exp))) with\n",
    "            |(Val e1, Val e2) -> Val (e1 + e2)\n",
    "            |_ -> failwith \"Errore impossibile che si verifichi\";;"
   ]
  },
  {
   "cell_type": "markdown",
   "id": "c617fb04",
   "metadata": {},
   "source": [
    "**TEST:** calcolare il risultato delle seguenti espressioni:\n",
    "\n",
    "* sumall (x; 1; 10) x\n",
    "* 100 + sumall (x;1;10) (sumall (y;1;10) x*y)\n",
    "\n",
    "Risultati attesi: 55 e 3125"
   ]
  },
  {
   "cell_type": "code",
   "execution_count": 65,
   "id": "64f268fc",
   "metadata": {
    "scrolled": true
   },
   "outputs": [
    {
     "data": {
      "text/plain": [
       "val e2 : exp = Sumall (\"x\", 1, 10, Ide \"x\")\n"
      ]
     },
     "execution_count": 65,
     "metadata": {},
     "output_type": "execute_result"
    },
    {
     "data": {
      "text/plain": [
       "val e3 : exp =\n",
       "  Op (Add, Val 100,\n",
       "   Sumall (\"x\", 1, 10, Sumall (\"y\", 1, 10, Op (Mul, Ide \"x\", Ide \"y\"))))\n"
      ]
     },
     "execution_count": 65,
     "metadata": {},
     "output_type": "execute_result"
    },
    {
     "data": {
      "text/plain": [
       "- : exp = Val 55\n"
      ]
     },
     "execution_count": 65,
     "metadata": {},
     "output_type": "execute_result"
    },
    {
     "data": {
      "text/plain": [
       "- : exp = Val 3125\n"
      ]
     },
     "execution_count": 65,
     "metadata": {},
     "output_type": "execute_result"
    }
   ],
   "source": [
    "let e2 = Sumall (\"x\",1,10,Ide \"x\");;\n",
    "let e3 = Op (Add, Val 100, \n",
    "                 (Sumall (\"x\",1,10,(Sumall (\"y\",1,10, Op ( Mul, Ide \"x\", Ide \"y\")))))) ;;\n",
    "                 \n",
    "eval e2;;\n",
    "eval e3;;"
   ]
  }
 ],
 "metadata": {
  "kernelspec": {
   "display_name": "OCaml default",
   "language": "OCaml",
   "name": "ocaml-jupyter"
  },
  "language_info": {
   "codemirror_mode": "text/x-ocaml",
   "file_extension": ".ml",
   "mimetype": "text/x-ocaml",
   "name": "OCaml",
   "nbconverter_exporter": null,
   "pygments_lexer": "OCaml",
   "version": "4.08.1"
  }
 },
 "nbformat": 4,
 "nbformat_minor": 5
}
