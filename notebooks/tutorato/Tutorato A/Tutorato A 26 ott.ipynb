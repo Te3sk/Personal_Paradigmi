{
 "cells": [
  {
   "cell_type": "markdown",
   "id": "791dab2f",
   "metadata": {},
   "source": [
    "## Es. 1:\n",
    "Scrivere una funzione `sum n` che calcoli **ricorsivamente** la somma di tutti i numeri da 0 a n. Usarla poi per calcolare `sum 1000000`"
   ]
  },
  {
   "cell_type": "code",
   "execution_count": null,
   "id": "27405a57",
   "metadata": {
    "scrolled": false
   },
   "outputs": [],
   "source": [
    "let rec sum n = \n",
    " match n with \n",
    " | 0 -> 0\n",
    " | n -> n + sum (n - 1);;\n",
    " \n",
    " sum 4;;\n",
    " sum 1000000;;"
   ]
  },
  {
   "cell_type": "code",
   "execution_count": 3,
   "id": "2f1b23c0",
   "metadata": {},
   "outputs": [
    {
     "data": {
      "text/plain": [
       "val sum2 : int -> int = <fun>\n"
      ]
     },
     "execution_count": 3,
     "metadata": {},
     "output_type": "execute_result"
    },
    {
     "data": {
      "text/plain": [
       "- : int = 500000500000\n"
      ]
     },
     "execution_count": 3,
     "metadata": {},
     "output_type": "execute_result"
    }
   ],
   "source": [
    "let sum2 n =\n",
    "    let rec aux n tot =\n",
    "        match n with\n",
    "        | 0 -> tot\n",
    "        | n -> aux (n-1) (tot + n)\n",
    "    in aux n 0;;\n",
    "    \n",
    "sum2 1000000;;"
   ]
  },
  {
   "cell_type": "markdown",
   "id": "c8df242f",
   "metadata": {},
   "source": [
    "## Es. 2:\n",
    "Scrivere una funzione `square_evens l` che prende una lista  `l` e restituisce una lista `l'`, contenente **solo** gli elementi pari di `l`, elevati al quadrato.\n",
    "\n",
    "    square_evens [4; 1; 5; 4; 10] = [16; 16; 100]\n",
    " \n",
    " Scrivere due versioni di `square_evens`, una usando ricorsione e pattern matching, una usando funzioni di ordine superiore (non necessariamente `fold`)."
   ]
  },
  {
   "cell_type": "code",
   "execution_count": 14,
   "id": "0a212f48",
   "metadata": {},
   "outputs": [
    {
     "data": {
      "text/plain": [
       "val square_evens : int list -> int list = <fun>\n"
      ]
     },
     "execution_count": 14,
     "metadata": {},
     "output_type": "execute_result"
    },
    {
     "data": {
      "text/plain": [
       "val square_evens2 : int list -> int list = <fun>\n"
      ]
     },
     "execution_count": 14,
     "metadata": {},
     "output_type": "execute_result"
    },
    {
     "data": {
      "text/plain": [
       "val square_evens3 : int list -> int list = <fun>\n"
      ]
     },
     "execution_count": 14,
     "metadata": {},
     "output_type": "execute_result"
    },
    {
     "data": {
      "text/plain": [
       "- : int list = [16; 16; 100]\n"
      ]
     },
     "execution_count": 14,
     "metadata": {},
     "output_type": "execute_result"
    }
   ],
   "source": [
    "(*Soluzione 1, usando ricorsione e pattern matching*)\n",
    "let rec square_evens l = \n",
    "    match l with \n",
    "    | [] -> []\n",
    "    | x :: xs -> if (x mod 2 = 0) \n",
    "                    then x*x :: square_evens xs\n",
    "                    else square_evens xs;;\n",
    "                    \n",
    "    \n",
    "(*Soluzione 2, usando filter e map*)\n",
    "let square_evens2 l = \n",
    "    let filtered = List.filter (fun x -> (x mod 2) = 0) l in\n",
    "    let squared = List.map (fun x -> x*x) filtered in\n",
    "    squared;;\n",
    "\n",
    "(*Soluzione 3, usando fold right*)\n",
    "let square_evens3 l = \n",
    "    let f el acc = if (el mod 2) = 0 \n",
    "                    then el*el :: acc\n",
    "                    else acc\n",
    "    in\n",
    "    List.fold_right f l [];;\n",
    "\n",
    "square_evens3 [4; 1; 5; 4; 10];;"
   ]
  },
  {
   "cell_type": "markdown",
   "id": "6e1d33b9",
   "metadata": {},
   "source": [
    "## Es. 3: \n",
    "\n",
    "Scrivere una funzione `drop n l` che prende un intero e una lista, e scarta tutti gli elementi di `l` con **indice** multiplo di n. Usare sia la ricorsione che `fold_left` o `fold_right`.\n",
    "\n",
    "    drop 2 [1; 2; 3; 17; 42] = [1; 3; 42]"
   ]
  },
  {
   "cell_type": "code",
   "execution_count": null,
   "id": "c5d2fe5b",
   "metadata": {},
   "outputs": [],
   "source": [
    "let drop n l =\n",
    "    let rec aux n l i = \n",
    "        match l with\n",
    "            |[] -> []\n",
    "            |x :: t -> if (i mod n) = 0\n",
    "                        then aux n t (i+1)\n",
    "                        else x :: aux n t (i + 1)\n",
    "    in aux n l 1;;\n",
    "            \n",
    "let drop2 n l = \n",
    "    let f acc el = let partial, counter = acc in\n",
    "                    if counter mod n = 0\n",
    "                    then (partial, counter + 1)\n",
    "                    else (partial @ [el], counter + 1)\n",
    "    in \n",
    "    let result, c = List.fold_left f ([], 1) l\n",
    "    in result;;\n",
    "\n",
    "drop2 2 [1; 2; 3; 17; 42] = [1; 3; 42]"
   ]
  },
  {
   "cell_type": "markdown",
   "id": "ce20293b",
   "metadata": {},
   "source": [
    "## Es. 4:\n",
    "Scrivere una funzione `ordered l` che restituisca `true` se e solo se `l` è una lista ordinata.\n",
    "\n",
    "    ordered [1; 2; 4; 10] = true\n",
    "    ordered [1; 3; 2; 10] = false"
   ]
  },
  {
   "cell_type": "code",
   "execution_count": null,
   "id": "e91309d5",
   "metadata": {},
   "outputs": [],
   "source": []
  }
 ],
 "metadata": {
  "kernelspec": {
   "display_name": "OCaml default",
   "language": "OCaml",
   "name": "ocaml-jupyter"
  },
  "language_info": {
   "codemirror_mode": "text/x-ocaml",
   "file_extension": ".ml",
   "mimetype": "text/x-ocaml",
   "name": "OCaml",
   "nbconverter_exporter": null,
   "pygments_lexer": "OCaml",
   "version": "4.08.1"
  }
 },
 "nbformat": 4,
 "nbformat_minor": 5
}
